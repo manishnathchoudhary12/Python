{
 "cells": [
  {
   "cell_type": "code",
   "execution_count": 12,
   "metadata": {
    "collapsed": false
   },
   "outputs": [
    {
     "data": {
      "text/html": [
       "<div>\n",
       "<table border=\"1\" class=\"dataframe\">\n",
       "  <thead>\n",
       "    <tr style=\"text-align: right;\">\n",
       "      <th></th>\n",
       "      <th>Comment</th>\n",
       "      <th>Date</th>\n",
       "    </tr>\n",
       "  </thead>\n",
       "  <tbody>\n",
       "    <tr>\n",
       "      <th>0</th>\n",
       "      <td>As a flight attendant, I hope RDU is going to ...</td>\n",
       "      <td>6/16/2015</td>\n",
       "    </tr>\n",
       "    <tr>\n",
       "      <th>1</th>\n",
       "      <td>As a Raleigh native who remembers when RDU was...</td>\n",
       "      <td>6/16/2015</td>\n",
       "    </tr>\n",
       "    <tr>\n",
       "      <th>2</th>\n",
       "      <td>I recommend that you add a spaceport and docki...</td>\n",
       "      <td>6/16/2015</td>\n",
       "    </tr>\n",
       "    <tr>\n",
       "      <th>3</th>\n",
       "      <td>AMS would make me happy lol</td>\n",
       "      <td>6/16/2015</td>\n",
       "    </tr>\n",
       "    <tr>\n",
       "      <th>4</th>\n",
       "      <td>I would love a nonstop to CDG or FRA!</td>\n",
       "      <td>6/16/2015</td>\n",
       "    </tr>\n",
       "  </tbody>\n",
       "</table>\n",
       "</div>"
      ],
      "text/plain": [
       "                                             Comment       Date\n",
       "0  As a flight attendant, I hope RDU is going to ...  6/16/2015\n",
       "1  As a Raleigh native who remembers when RDU was...  6/16/2015\n",
       "2  I recommend that you add a spaceport and docki...  6/16/2015\n",
       "3                        AMS would make me happy lol  6/16/2015\n",
       "4              I would love a nonstop to CDG or FRA!  6/16/2015"
      ]
     },
     "execution_count": 12,
     "metadata": {},
     "output_type": "execute_result"
    }
   ],
   "source": [
    "import pandas as pd\n",
    "import datetime as dt\n",
    "import matplotlib.pyplot as plt\n",
    "import numpy as np\n",
    "%matplotlib inline\n",
    "\n",
    "comments=pd.read_csv('C:/Programming/GitHub/RDU_2040_Analysis/Data/reviews_df.csv', encoding=\"latin-1\")\n",
    "del comments['Unnamed: 0']\n",
    "comments.head()"
   ]
  },
  {
   "cell_type": "code",
   "execution_count": 13,
   "metadata": {
    "collapsed": true
   },
   "outputs": [],
   "source": [
    "def date_transform(x):\n",
    "    x_new = dt.datetime.strptime(x, '%m/%d/%Y')\n",
    "    return 100*x_new.year + x_new.month"
   ]
  },
  {
   "cell_type": "code",
   "execution_count": 14,
   "metadata": {
    "collapsed": false
   },
   "outputs": [
    {
     "data": {
      "text/html": [
       "<div>\n",
       "<table border=\"1\" class=\"dataframe\">\n",
       "  <thead>\n",
       "    <tr style=\"text-align: right;\">\n",
       "      <th></th>\n",
       "      <th>Comment</th>\n",
       "      <th>Date</th>\n",
       "      <th>Month_Year</th>\n",
       "    </tr>\n",
       "  </thead>\n",
       "  <tbody>\n",
       "    <tr>\n",
       "      <th>0</th>\n",
       "      <td>As a flight attendant, I hope RDU is going to ...</td>\n",
       "      <td>6/16/2015</td>\n",
       "      <td>201506</td>\n",
       "    </tr>\n",
       "    <tr>\n",
       "      <th>1</th>\n",
       "      <td>As a Raleigh native who remembers when RDU was...</td>\n",
       "      <td>6/16/2015</td>\n",
       "      <td>201506</td>\n",
       "    </tr>\n",
       "    <tr>\n",
       "      <th>2</th>\n",
       "      <td>I recommend that you add a spaceport and docki...</td>\n",
       "      <td>6/16/2015</td>\n",
       "      <td>201506</td>\n",
       "    </tr>\n",
       "    <tr>\n",
       "      <th>3</th>\n",
       "      <td>AMS would make me happy lol</td>\n",
       "      <td>6/16/2015</td>\n",
       "      <td>201506</td>\n",
       "    </tr>\n",
       "    <tr>\n",
       "      <th>4</th>\n",
       "      <td>I would love a nonstop to CDG or FRA!</td>\n",
       "      <td>6/16/2015</td>\n",
       "      <td>201506</td>\n",
       "    </tr>\n",
       "  </tbody>\n",
       "</table>\n",
       "</div>"
      ],
      "text/plain": [
       "                                             Comment       Date  Month_Year\n",
       "0  As a flight attendant, I hope RDU is going to ...  6/16/2015      201506\n",
       "1  As a Raleigh native who remembers when RDU was...  6/16/2015      201506\n",
       "2  I recommend that you add a spaceport and docki...  6/16/2015      201506\n",
       "3                        AMS would make me happy lol  6/16/2015      201506\n",
       "4              I would love a nonstop to CDG or FRA!  6/16/2015      201506"
      ]
     },
     "execution_count": 14,
     "metadata": {},
     "output_type": "execute_result"
    }
   ],
   "source": [
    "comments['Month_Year'] = comments['Date'].map(lambda x: date_transform(x))\n",
    "comments.head()"
   ]
  },
  {
   "cell_type": "code",
   "execution_count": 15,
   "metadata": {
    "collapsed": false
   },
   "outputs": [],
   "source": [
    "monthly_counts=comments['Month_Year'].value_counts().sort_index()\n"
   ]
  },
  {
   "cell_type": "code",
   "execution_count": 17,
   "metadata": {
    "collapsed": false
   },
   "outputs": [
    {
     "data": {
      "image/png": "[encoded data removed]",
      "text/plain": [
       "<matplotlib.figure.Figure at 0xaf05da0>"
      ]
     },
     "metadata": {},
     "output_type": "display_data"
    }
   ],
   "source": [
    "# Plot ROC curve\n",
    "plt.figure()\n",
    "plt.plot(np.arange(0,15,1), monthly_counts.values)\n",
    "plt.xlabel(\"Month\")\n",
    "plt.ylabel(\"# of comments\")\n",
    "plt.title(\"Number of comments by month\")\n",
    "plt.show()"
   ]
  }
 ],
 "metadata": {
  "anaconda-cloud": {},
  "kernelspec": {
   "display_name": "Python 3",
   "language": "python",
   "name": "python3"
  },
  "language_info": {
   "codemirror_mode": {
    "name": "ipython",
    "version": 3
   },
   "file_extension": ".py",
   "mimetype": "text/x-python",
   "name": "python",
   "nbconvert_exporter": "python",
   "pygments_lexer": "ipython3",
   "version": "3.5.2"
  }
 },
 "nbformat": 4,
 "nbformat_minor": 1
}

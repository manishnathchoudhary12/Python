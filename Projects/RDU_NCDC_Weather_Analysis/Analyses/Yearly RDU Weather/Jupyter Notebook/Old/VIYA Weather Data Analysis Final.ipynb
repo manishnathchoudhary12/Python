{
 "cells": [
  {
   "cell_type": "markdown",
   "metadata": {},
   "source": [
    "### Pull Weather Data from API \n",
    "#### Raleigh, Charlotte, DC 1946 - 2015"
   ]
  },
  {
   "cell_type": "code",
   "execution_count": 1,
   "metadata": {
    "collapsed": false
   },
   "outputs": [],
   "source": [
    "import numpy as np\n",
    "import json\n",
    "import requests\n",
    "import pandas as pd\n",
    "\n",
    "#Sites we will loop through\n",
    "site_name=['RDU','Reagan_Intl', 'CLT']\n",
    "site_id=['GHCND:USW00013722','GHCND:USW00013743', 'GHCND:USW00013881']"
   ]
  },
  {
   "cell_type": "markdown",
   "metadata": {},
   "source": [
    "### Pull data for a specific location for 10 year interval (max allowed by API in one call)"
   ]
  },
  {
   "cell_type": "code",
   "execution_count": 2,
   "metadata": {
    "collapsed": false
   },
   "outputs": [],
   "source": [
    "def return_results(url):\n",
    "    \n",
    "    #Create dictionaries for variable\n",
    "    columns=['Year','SNOW','TAVG','CLDD','DX32','TMIN','TMAX','HTDD','DX90','DP01', 'DP05','DT32','FZF0','PRCP']\n",
    "    all_col={}\n",
    "    for column in columns:\n",
    "        all_col[column] = []\n",
    "   \n",
    "    #Call API\n",
    "    #headers = {'token': 'dKuJxEKlhIJuoZSjvKULivIPXWsRqspt' } #Two api keys, 1000 request limit/day\n",
    "    headers = {'token': 'HGQwYMutaGbKyJUqOZchjtieVMKpMMTE'}\n",
    "    response = requests.get(url, headers=headers)\n",
    "    parsed=json.loads(response.text)   \n",
    "       \n",
    "    #list_vars=[SNOW,TAVG,CLDD,DX32,TMIN,TMAX,HTDD,DX90,DP01, DP05,DT32,FZF0,PRCP]\n",
    "    for record in parsed['results']:\n",
    "        for i in range(1,len(columns)):\n",
    "            if record['datatype'] == columns[i]: \n",
    "                if i==1:\n",
    "                    all_col['Year'].append(record['date'])\n",
    "                all_col[columns[i]].append(record['value'])\n",
    "               \n",
    "    return all_col             "
   ]
  },
  {
   "cell_type": "markdown",
   "metadata": {},
   "source": [
    "### Pull data in 10 year intervals for a specific site and merge results"
   ]
  },
  {
   "cell_type": "code",
   "execution_count": 3,
   "metadata": {
    "collapsed": false
   },
   "outputs": [],
   "source": [
    "def year_loop(start,end, by, code):\n",
    "    \n",
    "    columns=['Year','SNOW','TAVG','CLDD','DX32','TMIN','TMAX',\n",
    "             'HTDD','DX90','DP01', 'DP05','DT32','FZF0','PRCP']\n",
    "    all_col2={}\n",
    "    for column in columns:\n",
    "        all_col2[column] = []\n",
    "        \n",
    "    url='http://www.ncdc.noaa.gov/cdo-web/api/v2/data?datasetid=GSOY&stationid=id_code&startdate=1946-01-01&enddate=1955-01-01&limit=1000'\n",
    "    url=url.replace('id_code', code)\n",
    "\n",
    "    ranges=np.arange(start, end+1, by)\n",
    "    \n",
    "    for i in range(len(ranges)-1):\n",
    "        \n",
    "        all_cols = return_results(url)\n",
    "\n",
    "        for key, value in all_cols.items():\n",
    "            all_col2[key].extend(value)\n",
    "            #print(key, value)\n",
    "        \n",
    "        if i==6:\n",
    "            pass\n",
    "\n",
    "        else:\n",
    "            url=url.replace(str(ranges[i+1]-1),str(ranges[i+2]-1))\n",
    "            url=url.replace(str(ranges[i]),str(ranges[i+1]))\n",
    "        \n",
    "    all_col2=pd.DataFrame.from_dict(all_col2)\n",
    "    all_col2['Year']=all_col2['Year'].map(lambda x: x[:4])\n",
    "\n",
    "    return all_col2"
   ]
  },
  {
   "cell_type": "markdown",
   "metadata": {},
   "source": [
    "### Pull data for Raleigh, Charlotte and DC from 1946 - 2010 - Load to CAS "
   ]
  },
  {
   "cell_type": "code",
   "execution_count": 4,
   "metadata": {
    "collapsed": false
   },
   "outputs": [],
   "source": [
    "loop_df_rdu = year_loop(1946,2016,10,site_id[0])\n",
    "loop_df_rdu['Location']=site_name[0]\n",
    "\n",
    "loop_df_rea=year_loop(1946,2016,10,site_id[1])\n",
    "loop_df_rea['Location']=site_name[1]\n",
    "\n",
    "loop_df_clt=year_loop(1946,2016,10,site_id[2])\n",
    "loop_df_clt['Location']=site_name[2]\n",
    "\n",
    "API_Data=pd.concat([loop_df_rdu, loop_df_rea, loop_df_clt], axis=0)"
   ]
  },
  {
   "cell_type": "code",
   "execution_count": 5,
   "metadata": {
    "collapsed": false
   },
   "outputs": [
    {
     "data": {
      "text/html": [
       "<div>\n",
       "<table border=\"1\" class=\"dataframe\">\n",
       "  <thead>\n",
       "    <tr style=\"text-align: right;\">\n",
       "      <th></th>\n",
       "      <th>CLDD</th>\n",
       "      <th>DP01</th>\n",
       "      <th>DP05</th>\n",
       "      <th>DT32</th>\n",
       "      <th>DX32</th>\n",
       "      <th>DX90</th>\n",
       "      <th>FZF0</th>\n",
       "      <th>HTDD</th>\n",
       "      <th>PRCP</th>\n",
       "      <th>SNOW</th>\n",
       "      <th>TAVG</th>\n",
       "      <th>TMAX</th>\n",
       "      <th>TMIN</th>\n",
       "      <th>Year</th>\n",
       "      <th>Location</th>\n",
       "    </tr>\n",
       "  </thead>\n",
       "  <tbody>\n",
       "    <tr>\n",
       "      <th>0</th>\n",
       "      <td>721.9</td>\n",
       "      <td>131</td>\n",
       "      <td>35</td>\n",
       "      <td>50</td>\n",
       "      <td>0</td>\n",
       "      <td>28</td>\n",
       "      <td>0.0</td>\n",
       "      <td>1834.8</td>\n",
       "      <td>1280.4</td>\n",
       "      <td>138</td>\n",
       "      <td>15.82</td>\n",
       "      <td>21.95</td>\n",
       "      <td>9.68</td>\n",
       "      <td>1946</td>\n",
       "      <td>RDU</td>\n",
       "    </tr>\n",
       "    <tr>\n",
       "      <th>1</th>\n",
       "      <td>855.3</td>\n",
       "      <td>133</td>\n",
       "      <td>28</td>\n",
       "      <td>92</td>\n",
       "      <td>3</td>\n",
       "      <td>44</td>\n",
       "      <td>0.0</td>\n",
       "      <td>1905.6</td>\n",
       "      <td>1168.2</td>\n",
       "      <td>99</td>\n",
       "      <td>14.83</td>\n",
       "      <td>20.89</td>\n",
       "      <td>8.77</td>\n",
       "      <td>1947</td>\n",
       "      <td>RDU</td>\n",
       "    </tr>\n",
       "    <tr>\n",
       "      <th>2</th>\n",
       "      <td>856.4</td>\n",
       "      <td>149</td>\n",
       "      <td>39</td>\n",
       "      <td>61</td>\n",
       "      <td>8</td>\n",
       "      <td>49</td>\n",
       "      <td>0.0</td>\n",
       "      <td>1978.7</td>\n",
       "      <td>1327.1</td>\n",
       "      <td>622</td>\n",
       "      <td>15.48</td>\n",
       "      <td>21.72</td>\n",
       "      <td>9.23</td>\n",
       "      <td>1948</td>\n",
       "      <td>RDU</td>\n",
       "    </tr>\n",
       "    <tr>\n",
       "      <th>3</th>\n",
       "      <td>903.8</td>\n",
       "      <td>126</td>\n",
       "      <td>27</td>\n",
       "      <td>58</td>\n",
       "      <td>0</td>\n",
       "      <td>44</td>\n",
       "      <td>-1.1</td>\n",
       "      <td>1611.2</td>\n",
       "      <td>1106.1</td>\n",
       "      <td>0</td>\n",
       "      <td>16.33</td>\n",
       "      <td>22.36</td>\n",
       "      <td>10.29</td>\n",
       "      <td>1949</td>\n",
       "      <td>RDU</td>\n",
       "    </tr>\n",
       "    <tr>\n",
       "      <th>4</th>\n",
       "      <td>840.5</td>\n",
       "      <td>125</td>\n",
       "      <td>22</td>\n",
       "      <td>77</td>\n",
       "      <td>1</td>\n",
       "      <td>44</td>\n",
       "      <td>0.0</td>\n",
       "      <td>1709.7</td>\n",
       "      <td>962.2</td>\n",
       "      <td>8</td>\n",
       "      <td>15.47</td>\n",
       "      <td>21.78</td>\n",
       "      <td>9.16</td>\n",
       "      <td>1950</td>\n",
       "      <td>RDU</td>\n",
       "    </tr>\n",
       "  </tbody>\n",
       "</table>\n",
       "</div>"
      ],
      "text/plain": [
       "    CLDD  DP01  DP05  DT32  DX32  DX90  FZF0    HTDD    PRCP  SNOW   TAVG  \\\n",
       "0  721.9   131    35    50     0    28   0.0  1834.8  1280.4   138  15.82   \n",
       "1  855.3   133    28    92     3    44   0.0  1905.6  1168.2    99  14.83   \n",
       "2  856.4   149    39    61     8    49   0.0  1978.7  1327.1   622  15.48   \n",
       "3  903.8   126    27    58     0    44  -1.1  1611.2  1106.1     0  16.33   \n",
       "4  840.5   125    22    77     1    44   0.0  1709.7   962.2     8  15.47   \n",
       "\n",
       "    TMAX   TMIN  Year Location  \n",
       "0  21.95   9.68  1946      RDU  \n",
       "1  20.89   8.77  1947      RDU  \n",
       "2  21.72   9.23  1948      RDU  \n",
       "3  22.36  10.29  1949      RDU  \n",
       "4  21.78   9.16  1950      RDU  "
      ]
     },
     "execution_count": 5,
     "metadata": {},
     "output_type": "execute_result"
    }
   ],
   "source": [
    "API_Data.head()"
   ]
  }
 ],
 "metadata": {
  "anaconda-cloud": {},
  "kernelspec": {
   "display_name": "Python 3",
   "language": "python",
   "name": "python3"
  },
  "language_info": {
   "codemirror_mode": {
    "name": "ipython",
    "version": 3
   },
   "file_extension": ".py",
   "mimetype": "text/x-python",
   "name": "python",
   "nbconvert_exporter": "python",
   "pygments_lexer": "ipython3",
   "version": "3.5.2"
  }
 },
 "nbformat": 4,
 "nbformat_minor": 0
}

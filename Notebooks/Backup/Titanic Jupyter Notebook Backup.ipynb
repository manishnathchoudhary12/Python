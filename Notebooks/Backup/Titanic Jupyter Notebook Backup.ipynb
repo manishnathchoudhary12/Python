{
 "cells": [
  {
   "cell_type": "markdown",
   "metadata": {},
   "source": [
    "# Titanic Survival Analysis"
   ]
  },
  {
   "cell_type": "markdown",
   "metadata": {},
   "source": [
    "### Data Prep - Read in and Inspect Training data\n"
   ]
  },
  {
   "cell_type": "code",
   "execution_count": 25,
   "metadata": {
    "collapsed": false,
    "scrolled": true
   },
   "outputs": [
    {
     "name": "stdout",
     "output_type": "stream",
     "text": [
      "   Survived  Pclass     Sex   Age  SibSp  Parch     Fare Embarked\n",
      "0         0       3    male  22.0      1      0   7.2500        S\n",
      "1         1       1  female  38.0      1      0  71.2833        C\n",
      "2         1       3  female  26.0      0      0   7.9250        S\n",
      "3         1       1  female  35.0      1      0  53.1000        S\n",
      "4         0       3    male  35.0      0      0   8.0500        S \n",
      "\n",
      "<class 'pandas.core.frame.DataFrame'>\n",
      "RangeIndex: 891 entries, 0 to 890\n",
      "Data columns (total 8 columns):\n",
      "Survived    891 non-null int64\n",
      "Pclass      891 non-null int64\n",
      "Sex         891 non-null object\n",
      "Age         714 non-null float64\n",
      "SibSp       891 non-null int64\n",
      "Parch       891 non-null int64\n",
      "Fare        891 non-null float64\n",
      "Embarked    889 non-null object\n",
      "dtypes: float64(2), int64(4), object(2)\n",
      "memory usage: 55.8+ KB\n"
     ]
    }
   ],
   "source": [
    "import pandas as pd\n",
    "from sklearn import linear_model\n",
    "from sklearn.metrics import confusion_matrix,  roc_auc_score, roc_curve, auc\n",
    "from sklearn.ensemble import GradientBoostingClassifier\n",
    "\n",
    "df=pd.read_csv('C:/Training/Python/Titanic/train.csv')\n",
    "\n",
    "#Drop columns not used\n",
    "df=df.drop(['PassengerId','Name','Ticket', 'Cabin'], axis=1)\n",
    "\n",
    "print(df.head(5), \"\\n\")\n",
    "df.info()"
   ]
  },
  {
   "cell_type": "markdown",
   "metadata": {},
   "source": [
    "### Quick Data Overview - Frequency table and percent churn"
   ]
  },
  {
   "cell_type": "code",
   "execution_count": 26,
   "metadata": {
    "collapsed": false,
    "scrolled": true
   },
   "outputs": [
    {
     "name": "stdout",
     "output_type": "stream",
     "text": [
      "male      577\n",
      "female    314\n",
      "Name: Sex, dtype: int64 \n",
      "\n",
      "0.38 % died\n"
     ]
    }
   ],
   "source": [
    "print(df['Sex'].value_counts(), \"\\n\")\n",
    "print(round(df.Survived.mean(),2),\"% died\")"
   ]
  },
  {
   "cell_type": "markdown",
   "metadata": {},
   "source": [
    "### Missing Value Analysis and Imputation"
   ]
  },
  {
   "cell_type": "code",
   "execution_count": 27,
   "metadata": {
    "collapsed": false
   },
   "outputs": [
    {
     "name": "stdout",
     "output_type": "stream",
     "text": [
      "Survived      0\n",
      "Pclass        0\n",
      "Sex           0\n",
      "Age         177\n",
      "SibSp         0\n",
      "Parch         0\n",
      "Fare          0\n",
      "Embarked      2\n",
      "dtype: int64\n"
     ]
    }
   ],
   "source": [
    "print(df[df.dtypes.index].isnull().sum())\n",
    "\n",
    "\n",
    "#Replace missing values for Embarked and Age\n",
    "df[\"Embarked\"] = df[\"Embarked\"].fillna(\"S\")\n",
    "df['Age']=df[\"Age\"].fillna(round(df['Age'].mean()))\n"
   ]
  },
  {
   "cell_type": "markdown",
   "metadata": {},
   "source": [
    "### Prep character Variables"
   ]
  },
  {
   "cell_type": "code",
   "execution_count": 28,
   "metadata": {
    "collapsed": false
   },
   "outputs": [
    {
     "name": "stdout",
     "output_type": "stream",
     "text": [
      "   Survived  Pclass     Sex   Age  SibSp  Parch     Fare Embarked  male    Q  \\\n",
      "0         0       3    male  22.0      1      0   7.2500        S   1.0  0.0   \n",
      "1         1       1  female  38.0      1      0  71.2833        C   0.0  0.0   \n",
      "2         1       3  female  26.0      0      0   7.9250        S   0.0  0.0   \n",
      "3         1       1  female  35.0      1      0  53.1000        S   0.0  0.0   \n",
      "4         0       3    male  35.0      0      0   8.0500        S   1.0  0.0   \n",
      "\n",
      "     S  \n",
      "0  1.0  \n",
      "1  0.0  \n",
      "2  1.0  \n",
      "3  1.0  \n",
      "4  1.0  \n"
     ]
    }
   ],
   "source": [
    "df = pd.concat([df, pd.get_dummies(df['Sex'], drop_first=True)], axis=1) #Drop_first k-1 levels #Female is now baseline\n",
    "df = pd.concat([df, pd.get_dummies(df['Embarked'], drop_first=True)], axis=1) #C is now baseline\n",
    "print(df.head())"
   ]
  },
  {
   "cell_type": "markdown",
   "metadata": {},
   "source": [
    "### Split into Training and Validation"
   ]
  },
  {
   "cell_type": "code",
   "execution_count": 29,
   "metadata": {
    "collapsed": false
   },
   "outputs": [
    {
     "name": "stdout",
     "output_type": "stream",
     "text": [
      "624\n",
      "267\n",
      "     Survived  Pclass     Sex   Age  SibSp  Parch    Fare Embarked  male    Q  \\\n",
      "68          1       3  female  17.0      4      2  7.9250        S   0.0  0.0   \n",
      "465         0       3    male  38.0      0      0  7.0500        S   1.0  0.0   \n",
      "872         0       1    male  33.0      0      0  5.0000        S   1.0  0.0   \n",
      "321         0       3    male  27.0      0      0  7.8958        S   1.0  0.0   \n",
      "488         0       3    male  30.0      0      0  8.0500        S   1.0  0.0   \n",
      "\n",
      "       S  \n",
      "68   1.0  \n",
      "465  1.0  \n",
      "872  1.0  \n",
      "321  1.0  \n",
      "488  1.0  \n"
     ]
    }
   ],
   "source": [
    "df2=df.sample(frac=.7)\n",
    "df_validation=df.loc[~df.index.isin(df2.index)]\n",
    "df=df2\n",
    "\n",
    "\n",
    "print(len(df.Age.values))\n",
    "print(len(df_validation.Age.values))\n",
    "print(df.head())"
   ]
  },
  {
   "cell_type": "markdown",
   "metadata": {},
   "source": [
    "###  Build Linear Regression"
   ]
  },
  {
   "cell_type": "code",
   "execution_count": 30,
   "metadata": {
    "collapsed": false,
    "scrolled": true
   },
   "outputs": [],
   "source": [
    "%%capture \n",
    "#Suppress output\n",
    "\n",
    "#Different Parts\n",
    "Y = df.Survived.values\n",
    "Features_train = df[['Pclass','SibSp','Parch','Fare','male','Q','S','Age']].values\n",
    "Features_validation=df_validation[['Pclass','SibSp','Parch','Fare','male','Q','S','Age']].values\n",
    "\n",
    "#Build Models\n",
    "regression = linear_model.LogisticRegression(C=1)\n",
    "regression.fit(Features_train,Y)\n",
    "\n",
    "#see head of Y\n",
    "print(Y[0:10])\n"
   ]
  },
  {
   "cell_type": "markdown",
   "metadata": {},
   "source": [
    "### Score Linear Regression"
   ]
  },
  {
   "cell_type": "code",
   "execution_count": 31,
   "metadata": {
    "collapsed": false
   },
   "outputs": [
    {
     "name": "stdout",
     "output_type": "stream",
     "text": [
      "    Survived  Pclass     Sex   Age  SibSp  Parch     Fare Embarked  male    Q  \\\n",
      "1          1       1  female  38.0      1      0  71.2833        C   0.0  0.0   \n",
      "5          0       3    male  30.0      0      0   8.4583        Q   1.0  1.0   \n",
      "10         1       3  female   4.0      1      1  16.7000        S   0.0  0.0   \n",
      "12         0       3    male  20.0      0      0   8.0500        S   1.0  0.0   \n",
      "16         0       3    male   2.0      4      1  29.1250        Q   1.0  1.0   \n",
      "\n",
      "      S  predictions  \n",
      "1   0.0          1.0  \n",
      "5   0.0          0.0  \n",
      "10  1.0          1.0  \n",
      "12  1.0          0.0  \n",
      "16  0.0          0.0  \n"
     ]
    }
   ],
   "source": [
    "#%%capture\n",
    "#Supress output\n",
    "\n",
    "#Make Predictions\n",
    "predict_train = regression.predict_proba(Features_train)[:,1]\n",
    "predict_validation = regression.predict_proba(Features_validation)[:,1]\n",
    "\n",
    "#Append to dataset, classify >.49\n",
    "df['predictions'] = (predict_train>.50).astype(float)\n",
    "df_validation['predictions'] = (predict_validation>.50).astype(float)\n",
    "print(df_validation.head())"
   ]
  },
  {
   "cell_type": "markdown",
   "metadata": {},
   "source": [
    "### Confusion Matrices"
   ]
  },
  {
   "cell_type": "code",
   "execution_count": 32,
   "metadata": {
    "collapsed": false
   },
   "outputs": [
    {
     "name": "stdout",
     "output_type": "stream",
     "text": [
      "[[327  56]\n",
      " [ 78 163]]\n",
      "\n",
      " 78.5 Accuracy - Logistic RR Train \n",
      "\n",
      "[[150  16]\n",
      " [ 31  70]]\n",
      "\n",
      " 82.4 Auracy - LR Valid \n",
      "\n"
     ]
    }
   ],
   "source": [
    "#Confusion Matrix for Training\n",
    "train_matrix=confusion_matrix(df.Survived.values, df.predictions.values)\n",
    "print(train_matrix)\n",
    "print('\\n',100*round((train_matrix[0,0]+train_matrix[1,1])/len(df.Survived),3),\"Accuracy - Logistic RR Train\",\"\\n\")\n",
    "\n",
    "#Confusion Matrix for Validation\n",
    "validation_matrix=confusion_matrix(df_validation.Survived.values, df_validation.predictions.values)\n",
    "print(validation_matrix)\n",
    "print('\\n',100*round((validation_matrix[0,0]+validation_matrix[1,1])/len(df_validation.Survived),3),\"Auracy - LR Valid\", \"\\n\")\n"
   ]
  },
  {
   "cell_type": "markdown",
   "metadata": {
    "collapsed": true
   },
   "source": [
    "###  Build Gradient Boosting Model"
   ]
  },
  {
   "cell_type": "code",
   "execution_count": 33,
   "metadata": {
    "collapsed": false
   },
   "outputs": [],
   "source": [
    "gboost = GradientBoostingClassifier()\n",
    "gboost.fit(Features_train, Y)\n",
    "\n",
    "predict_train_gb = gboost.predict_proba(Features_train)[:,1]\n",
    "predict_validation_gb = gboost.predict_proba(Features_validation)[:,1]\n"
   ]
  },
  {
   "cell_type": "markdown",
   "metadata": {},
   "source": [
    "### Results"
   ]
  },
  {
   "cell_type": "code",
   "execution_count": 34,
   "metadata": {
    "collapsed": false
   },
   "outputs": [
    {
     "name": "stdout",
     "output_type": "stream",
     "text": [
      "[[366  17]\n",
      " [ 43 198]]\n",
      "\n",
      " 90.4 Accuracy- GB Train \n",
      "\n",
      "[[156  10]\n",
      " [ 29  72]]\n",
      "\n",
      " 85.4 Accuracy - GB Validation\n"
     ]
    }
   ],
   "source": [
    "train_matrix=confusion_matrix(df.Survived.values, (predict_train_gb>.49).astype(float))\n",
    "print(train_matrix)\n",
    "print('\\n',100*round((train_matrix[0,0]+train_matrix[1,1])/len(df.Survived),3),\"Accuracy- GB Train\",\"\\n\")\n",
    "\n",
    "#Confusion Matrix for Validation\n",
    "validation_matrix=confusion_matrix(df_validation.Survived.values, (predict_validation_gb>.49).astype(float))\n",
    "print(validation_matrix)\n",
    "print('\\n',100*round((validation_matrix[0,0]+validation_matrix[1,1])/len(df_validation.Survived),3),\"Accuracy - GB Validation\")\n",
    "\n"
   ]
  },
  {
   "cell_type": "markdown",
   "metadata": {
    "collapsed": true
   },
   "source": [
    "### Score Test, Unseen data"
   ]
  },
  {
   "cell_type": "markdown",
   "metadata": {},
   "source": [
    "#### Load in and Manipulate"
   ]
  },
  {
   "cell_type": "code",
   "execution_count": 35,
   "metadata": {
    "collapsed": false
   },
   "outputs": [
    {
     "name": "stdout",
     "output_type": "stream",
     "text": [
      "Pclass       0\n",
      "Sex          0\n",
      "Age         86\n",
      "SibSp        0\n",
      "Parch        0\n",
      "Fare         1\n",
      "Embarked     0\n",
      "dtype: int64\n"
     ]
    }
   ],
   "source": [
    "df_test=pd.read_csv('C:/Training/Python/Titanic/test.csv')\n",
    "\n",
    "#Drop columns not used\n",
    "df_test=df_test.drop(['PassengerId','Name','Ticket', 'Cabin'], axis=1)\n",
    "\n",
    "#Missingness\n",
    "print(df_test[df_test.dtypes.index].isnull().sum())\n",
    "df_test[\"Age\"]=df_test[\"Age\"].fillna(round(df_test['Age'].mean()))\n",
    "df_test[\"Fare\"]=df_test[\"Fare\"].fillna(round(df_test['Fare'].mean()))\n",
    "\n",
    "\n",
    "#Validation\n",
    "df_test = pd.concat([df_test, pd.get_dummies(df_test['Sex'], drop_first=True)], axis=1) \n",
    "df_test = pd.concat([df_test, pd.get_dummies(df_test['Embarked'], drop_first=True)], axis=1) \n"
   ]
  },
  {
   "cell_type": "code",
   "execution_count": 36,
   "metadata": {
    "collapsed": false
   },
   "outputs": [
    {
     "name": "stdout",
     "output_type": "stream",
     "text": [
      "   Pclass     Sex   Age  SibSp  Parch     Fare Embarked  male    Q    S  \\\n",
      "0       3    male  34.5      0      0   7.8292        Q   1.0  1.0  0.0   \n",
      "1       3  female  47.0      1      0   7.0000        S   0.0  0.0  1.0   \n",
      "2       2    male  62.0      0      0   9.6875        Q   1.0  1.0  0.0   \n",
      "3       3    male  27.0      0      0   8.6625        S   1.0  0.0  1.0   \n",
      "4       3  female  22.0      1      1  12.2875        S   0.0  0.0  1.0   \n",
      "\n",
      "   Survived_log  Survived_gb  \n",
      "0           0.0          0.0  \n",
      "1           0.0          0.0  \n",
      "2           0.0          0.0  \n",
      "3           0.0          0.0  \n",
      "4           1.0          0.0  \n"
     ]
    }
   ],
   "source": [
    "#Features to Predict\n",
    "Features_predict=df_test[['Pclass','SibSp','Parch','Fare','male','Q','S','Age']].values\n",
    "\n",
    "df_test['Survived_log'] = (regression.predict_proba(Features_predict)[:,1] > .49).astype(float)\n",
    "df_test['Survived_gb'] = (gboost.predict_proba(Features_predict)[:,1] > .50).astype(float)\n",
    "\n",
    "print(df_test.head())\n"
   ]
  },
  {
   "cell_type": "code",
   "execution_count": 37,
   "metadata": {
    "collapsed": false
   },
   "outputs": [
    {
     "name": "stdout",
     "output_type": "stream",
     "text": [
      "[[249  17]\n",
      " [ 28 124]]\n"
     ]
    }
   ],
   "source": [
    "print(confusion_matrix(df_test['Survived_log'].values, df_test['Survived_gb'].values))"
   ]
  },
  {
   "cell_type": "markdown",
   "metadata": {},
   "source": [
    "### Write to CSV"
   ]
  },
  {
   "cell_type": "code",
   "execution_count": 38,
   "metadata": {
    "collapsed": true
   },
   "outputs": [],
   "source": [
    "#df_test.to_csv('C:/Training/Python/Titanic/Results/Python_Predictions.csv')"
   ]
  },
  {
   "cell_type": "code",
   "execution_count": 39,
   "metadata": {
    "collapsed": false
   },
   "outputs": [
    {
     "data": {
      "text/plain": [
       "<matplotlib.axes._subplots.AxesSubplot at 0xb541828>"
      ]
     },
     "execution_count": 39,
     "metadata": {},
     "output_type": "execute_result"
    },
    {
     "data": {
      "image/png": "[encoded data removed]",
      "text/plain": [
       "<matplotlib.figure.Figure at 0x99cbef0>"
      ]
     },
     "metadata": {},
     "output_type": "display_data"
    }
   ],
   "source": [
    "%matplotlib inline\n",
    "import pandas as pd\n",
    "import numpy as np\n",
    "import matplotlib as plt\n",
    "c=pd.Series(np.random.randn(5), index=['a', 'b', 'c', 'd', 'e'])\n",
    "import matplotlib.pyplot as plt\n",
    "c.plot(kind='bar')\n",
    "#plt.show()\n"
   ]
  },
  {
   "cell_type": "markdown",
   "metadata": {},
   "source": [
    "### Create Roc Curve"
   ]
  },
  {
   "cell_type": "code",
   "execution_count": 59,
   "metadata": {
    "collapsed": false
   },
   "outputs": [
    {
     "data": {
      "image/png": "[encoded data removed]",
      "text/plain": [
       "<matplotlib.figure.Figure at 0xb5e0a20>"
      ]
     },
     "metadata": {},
     "output_type": "display_data"
    }
   ],
   "source": [
    "%matplotlib inline\n",
    "fpr_gb, tpr_gb, thresholds_gb=roc_curve(df_validation.Survived, predict_validation_gb)\n",
    "roc_gb=auc(fpr_gb,tpr_gb) #Another way to print the ROC score instead of roc_auc_score\n",
    "\n",
    "fpr_lm, tpr_lm, thresholds_lm=roc_curve(df_validation.Survived, predict_validation)\n",
    "roc_lm=auc(fpr_lm,tpr_lm)\n",
    "\n",
    "\n",
    "\n",
    "#Plot your ROC Curve\n",
    "plt.figure()\n",
    "plt.plot(fpr_gb, tpr_gb, label='ROC curve gb (area = %0.2f)' % roc_gb)\n",
    "plt.plot(fpr_lm, tpr_lm, label='ROC curve lm (AUC = %0.2f)' % roc_lm)\n",
    "plt.plot([0, 1], [0, 1], 'k--')\n",
    "plt.xlim([0.0, 1.0])\n",
    "plt.ylim([0.0, 1.05])\n",
    "plt.xlabel('False Positive Rate')\n",
    "plt.ylabel('True Positive Rate')\n",
    "plt.title('Receiver operating characteristic example')\n",
    "plt.legend(loc=\"lower right\")\n",
    "plt.show()\n"
   ]
  },
  {
   "cell_type": "code",
   "execution_count": null,
   "metadata": {
    "collapsed": true
   },
   "outputs": [],
   "source": []
  }
 ],
 "metadata": {
  "kernelspec": {
   "display_name": "Python 3",
   "language": "python",
   "name": "python3"
  },
  "language_info": {
   "codemirror_mode": {
    "name": "ipython",
    "version": 3
   },
   "file_extension": ".py",
   "mimetype": "text/x-python",
   "name": "python",
   "nbconvert_exporter": "python",
   "pygments_lexer": "ipython3",
   "version": "3.5.2"
  }
 },
 "nbformat": 4,
 "nbformat_minor": 0
}

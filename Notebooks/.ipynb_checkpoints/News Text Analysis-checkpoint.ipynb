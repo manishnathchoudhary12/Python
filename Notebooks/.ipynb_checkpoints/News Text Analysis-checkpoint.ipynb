{
 "cells": [
  {
   "cell_type": "code",
   "execution_count": 1,
   "metadata": {
    "collapsed": false
   },
   "outputs": [
    {
     "data": {
      "text/html": [
       "<div>\n",
       "<table border=\"1\" class=\"dataframe\">\n",
       "  <thead>\n",
       "    <tr style=\"text-align: right;\">\n",
       "      <th></th>\n",
       "      <th>TEXT</th>\n",
       "      <th>graphics</th>\n",
       "      <th>hockey</th>\n",
       "      <th>medical</th>\n",
       "      <th>newsgroup</th>\n",
       "      <th>key</th>\n",
       "    </tr>\n",
       "  </thead>\n",
       "  <tbody>\n",
       "    <tr>\n",
       "      <th>0</th>\n",
       "      <td>I have a few reprints left of chapters from my...</td>\n",
       "      <td>1</td>\n",
       "      <td>0</td>\n",
       "      <td>0</td>\n",
       "      <td>graphics</td>\n",
       "      <td>1</td>\n",
       "    </tr>\n",
       "    <tr>\n",
       "      <th>1</th>\n",
       "      <td>gnuplot, etc. make it easy to plot real valued...</td>\n",
       "      <td>1</td>\n",
       "      <td>0</td>\n",
       "      <td>0</td>\n",
       "      <td>graphics</td>\n",
       "      <td>2</td>\n",
       "    </tr>\n",
       "    <tr>\n",
       "      <th>2</th>\n",
       "      <td>Article-I.D.: snoopy.1pqlhnINN8k1 References: ...</td>\n",
       "      <td>1</td>\n",
       "      <td>0</td>\n",
       "      <td>0</td>\n",
       "      <td>graphics</td>\n",
       "      <td>3</td>\n",
       "    </tr>\n",
       "    <tr>\n",
       "      <th>3</th>\n",
       "      <td>Hello, I am looking to add voice input capabil...</td>\n",
       "      <td>1</td>\n",
       "      <td>0</td>\n",
       "      <td>0</td>\n",
       "      <td>graphics</td>\n",
       "      <td>4</td>\n",
       "    </tr>\n",
       "    <tr>\n",
       "      <th>4</th>\n",
       "      <td>I recently got a file describing a library of ...</td>\n",
       "      <td>1</td>\n",
       "      <td>0</td>\n",
       "      <td>0</td>\n",
       "      <td>graphics</td>\n",
       "      <td>5</td>\n",
       "    </tr>\n",
       "  </tbody>\n",
       "</table>\n",
       "</div>"
      ],
      "text/plain": [
       "                                                TEXT  graphics  hockey  \\\n",
       "0  I have a few reprints left of chapters from my...         1       0   \n",
       "1  gnuplot, etc. make it easy to plot real valued...         1       0   \n",
       "2  Article-I.D.: snoopy.1pqlhnINN8k1 References: ...         1       0   \n",
       "3  Hello, I am looking to add voice input capabil...         1       0   \n",
       "4  I recently got a file describing a library of ...         1       0   \n",
       "\n",
       "   medical newsgroup  key  \n",
       "0        0  graphics    1  \n",
       "1        0  graphics    2  \n",
       "2        0  graphics    3  \n",
       "3        0  graphics    4  \n",
       "4        0  graphics    5  "
      ]
     },
     "execution_count": 1,
     "metadata": {},
     "output_type": "execute_result"
    }
   ],
   "source": [
    "import pandas as pd\n",
    "import numpy as np\n",
    "from nltk.stem import *\n",
    "from nltk.corpus import stopwords\n",
    "from nltk.tokenize import wordpunct_tokenize\n",
    "import sklearn.feature_extraction.text as text\n",
    "from sklearn import decomposition, tree\n",
    "from sklearn.metrics import accuracy_score\n",
    "from sklearn.model_selection import StratifiedShuffleSplit\n",
    "\n",
    "import re\n",
    "\n",
    "stemmer=PorterStemmer()\n",
    "stop_words = stopwords.words('english')\n",
    "\n",
    "news = pd.read_csv('C:/Programming/Python Scripts/Text Analytics/Email News/Data/news.csv')\n",
    "news.head()"
   ]
  },
  {
   "cell_type": "markdown",
   "metadata": {},
   "source": [
    "### See first 5 reviews complete"
   ]
  },
  {
   "cell_type": "code",
   "execution_count": 2,
   "metadata": {
    "collapsed": false
   },
   "outputs": [
    {
     "name": "stdout",
     "output_type": "stream",
     "text": [
      "I have a few reprints left of chapters from my book \" Visions of the Future\" . These include reprints of 3 chapters probably of interest to readers of this forum, including: 1. Current Techniques and Development of Computer Art, by Franz Szabo 2. Forging a Career as a Sculptor from a Career as Computer Programmer, by Stewart Dickson 3. Fractals and Genetics in the Future by H. Joel Jeffrey I'd be happy to send out free reprints to researchers for scholarly purposes, until the reprints run out. Just send me your name and address. Thanks, Cliff cliff@watson.ibm.com \n",
      "\n",
      "gnuplot, etc. make it easy to plot real valued functions of 2 variables but I want to plot functions whose values are 2-vectors. I have been doing this by plotting arrays of arrows (complete with arrowheads) but before going further, I thought I would ask whether someone has already done the work. Any pointers?? thanx in advance Tom Weston | USENET: weston@ucssun1.sdsu.edu Department of Philosophy | (619) 594-6218 (office) San Diego State Univ. | (619) 575-7477 (home) San Diego, CA 92182-0303 | \n",
      "\n",
      "Article-I.D.: snoopy.1pqlhnINN8k1 References: < 1993Apr3.183303.6442@usl.edu> Organization: Univ. of Florida CIS Dept. Lines: 34 NNTP-Posting-Host: coconut.cis.ufl.edu In article < 1993Apr3.183303.6442@usl.edu> jna8182@ucs.usl.edu (Armstrong Jay N) writes: DMorf (Dave's Morph, I think is what it means) and DTax (Dave's TGA Assembler) are available in the MSDOS_UPLOADS directory on the wuarchive. They are arjed and bundled with their respective xmemory versions, dmorfx.exe and dtax.exe, you can also find a version of aaplay.exe there, with which you can view files you create with dta.exe or dtax.exe. I downloaded the whole bunch last week and have been morphing away the afternoons since. The programmes are all a bit buggy and definitely not-ready-to-spread-to-the-masses, but they are very well written. The interface is frustrating at first, but it gets easy once you figure out the tricks. I have noticed that dmorfx will crash horribly if you try to morph without using the splines option. Not sure why, since I don't have the source. I think it was written for TP 6.0. If anyone else comes up with any other hints on getting the thing to work right, tell me; it took me several hours the first time just to figure out that if I just used the durned splines then it would work... -Ryan rap@cis.ufl.edu \n",
      "\n",
      "Hello, I am looking to add voice input capability to a user interface I am developing on an HP730 (UNIX) workstation. I would greatly appreciate information anyone would care to offer about voice input systems that are easily accessible from the UNIX environment. The names or adresses of applicable vendors, as well as any experiences you have had with specific systems, would be very helpful. Please respond via email; I will post a summary if there is sufficient interest. Thanks, Ken P.S. I have found several impressive systems for IBM PC's, but I would like to avoid the hassle of purchasing and maintaining a separate PC if at all possible. ------------------------------------------------------------------------------- Ken Hinckley (kph2q@virginia.edu) University of Virginia Neurosurgical Visualization Laboratory ------------------------------------------------------------------------------- \n",
      "\n",
      "I recently got a file describing a library of rendering routines called SIPP (SImple Polygon Processor). Could anyone tell me where I can FTP the source code and which is the newest version around? Also, I've never used Renderman so I was wondering if Renderman is like SIPP? ie. a library of rendering routines which one uses to make a program that creates the image... Thanks, Joe Tham -- Joe Tham joth@ersys.edmonton.ab.ca \n",
      "\n"
     ]
    }
   ],
   "source": [
    "for i in range(5):\n",
    "    print(news['TEXT'][i], \"\\n\")"
   ]
  },
  {
   "cell_type": "markdown",
   "metadata": {},
   "source": [
    "### Prepare Data For Analysis\n",
    "Strip Punctuation, Capitalization, and Stemming"
   ]
  },
  {
   "cell_type": "code",
   "execution_count": 3,
   "metadata": {
    "collapsed": false
   },
   "outputs": [
    {
     "name": "stdout",
     "output_type": "stream",
     "text": [
      "i have a few reprints left of chapters from my book  visions of the future  these include reprints of 3 chapters probably of interest to readers of this forum including 1 current techniques and development of computer art by franz szabo 2 forging a career as a sculptor from a career as computer programmer by stewart dickson 3 fractals and genetics in the future by h joel jeffrey id be happy to send out free reprints to researchers for scholarly purposes until the reprints run out just send me your name and address thanks cliff cliff@watsonibmcom \n",
      "\n",
      "gnuplot etc make it easy to plot real valued functions of 2 variables but i want to plot functions whose values are 2vectors i have been doing this by plotting arrays of arrows complete with arrowheads but before going further i thought i would ask whether someone has already done the work any pointers thanx in advance tom weston  usenet weston@ucssun1sdsuedu department of philosophy  619 5946218 office san diego state univ  619 5757477 home san diego ca 921820303  \n",
      "\n",
      "articleid snoopy1pqlhninn8k1 references  1993apr31833036442@usledu organization univ of florida cis dept lines 34 nntppostinghost coconutcisufledu in article  1993apr31833036442@usledu jna8182@ucsusledu armstrong jay n writes dmorf daves morph i think is what it means and dtax daves tga assembler are available in the msdos_uploads directory on the wuarchive they are arjed and bundled with their respective xmemory versions dmorfxexe and dtaxexe you can also find a version of aaplayexe there with which you can view files you create with dtaexe or dtaxexe i downloaded the whole bunch last week and have been morphing away the afternoons since the programmes are all a bit buggy and definitely notreadytospreadtothemasses but they are very well written the interface is frustrating at first but it gets easy once you figure out the tricks i have noticed that dmorfx will crash horribly if you try to morph without using the splines option not sure why since i dont have the source i think it was written for tp 60 if anyone else comes up with any other hints on getting the thing to work right tell me it took me several hours the first time just to figure out that if i just used the durned splines then it would work ryan rap@cisufledu \n",
      "\n"
     ]
    }
   ],
   "source": [
    "news['TEXT']=[stemmer.stem(re.sub(r'[^\\w\\s\\@]','',text).lower()) for text in news['TEXT']]\n",
    "for i in range(3):\n",
    "    print(news['TEXT'][i], \"\\n\")"
   ]
  },
  {
   "cell_type": "markdown",
   "metadata": {},
   "source": [
    "### Generate Document-Term Matrix"
   ]
  },
  {
   "cell_type": "code",
   "execution_count": 4,
   "metadata": {
    "collapsed": false
   },
   "outputs": [
    {
     "data": {
      "text/plain": [
       "(598, 396)"
      ]
     },
     "execution_count": 4,
     "metadata": {},
     "output_type": "execute_result"
    }
   ],
   "source": [
    "#ignore words with frequency of less than 15\n",
    "vectorizer = text.CountVectorizer(input='files', stop_words='english', min_df=15)\n",
    "dtm = vectorizer.fit_transform(news['TEXT']).toarray()\n",
    "vocab = np.array(vectorizer.get_feature_names())\n",
    "\n",
    "#1113 documents, 362 words with counts per document\n",
    "dtm.shape"
   ]
  },
  {
   "cell_type": "markdown",
   "metadata": {},
   "source": [
    "### Perform topic modeling"
   ]
  },
  {
   "cell_type": "code",
   "execution_count": 5,
   "metadata": {
    "collapsed": true
   },
   "outputs": [],
   "source": [
    "n_topics=10\n",
    "n_top_words=5\n",
    "clf = decomposition.NMF(n_components=n_topics, random_state=12345)\n",
    "doctopic = clf.fit_transform(dtm) #New Variables"
   ]
  },
  {
   "cell_type": "markdown",
   "metadata": {},
   "source": [
    "### See top words for each topic"
   ]
  },
  {
   "cell_type": "code",
   "execution_count": 6,
   "metadata": {
    "collapsed": false
   },
   "outputs": [
    {
     "data": {
      "text/plain": [
       "[['period', 'play', 'power', 'second', 'pittsburgh'],\n",
       " ['dont', 'think', 'just', 'like', 'im'],\n",
       " ['flyers', 'got', 'play', 'leafs', 'power'],\n",
       " ['season', 'game', 'team', 'points', 'mark'],\n",
       " ['program', 'available', 'information', 'software', 'use'],\n",
       " ['day', 'want', 'people', 'medical', 'help'],\n",
       " ['33', '21', '23', '31', '10'],\n",
       " ['graphics', 'systems', 'ca', 'computer', 'new'],\n",
       " ['article', 'writes', 'gordon', 'banks', 'geb'],\n",
       " ['new', 'win', 'games', 'team', 'nhl']]"
      ]
     },
     "execution_count": 6,
     "metadata": {},
     "output_type": "execute_result"
    }
   ],
   "source": [
    "topic_words=[]\n",
    "for topic in clf.components_:\n",
    "    word_idx = np.argsort(topic)[::-1][0:n_top_words]\n",
    "    topic_words.append([vocab[i] for i in word_idx])\n",
    "topic_words"
   ]
  },
  {
   "cell_type": "markdown",
   "metadata": {},
   "source": [
    "### See Structured Representation of the text (Components)"
   ]
  },
  {
   "cell_type": "code",
   "execution_count": 7,
   "metadata": {
    "collapsed": false
   },
   "outputs": [
    {
     "data": {
      "text/html": [
       "<div>\n",
       "<table border=\"1\" class=\"dataframe\">\n",
       "  <thead>\n",
       "    <tr style=\"text-align: right;\">\n",
       "      <th></th>\n",
       "      <th>0</th>\n",
       "      <th>1</th>\n",
       "      <th>2</th>\n",
       "      <th>3</th>\n",
       "      <th>4</th>\n",
       "      <th>5</th>\n",
       "      <th>6</th>\n",
       "      <th>7</th>\n",
       "      <th>8</th>\n",
       "      <th>9</th>\n",
       "    </tr>\n",
       "  </thead>\n",
       "  <tbody>\n",
       "    <tr>\n",
       "      <th>0</th>\n",
       "      <td>0.000000</td>\n",
       "      <td>0.012505</td>\n",
       "      <td>0.004332</td>\n",
       "      <td>0.0</td>\n",
       "      <td>0.085409</td>\n",
       "      <td>0.019131</td>\n",
       "      <td>0.0</td>\n",
       "      <td>0.097338</td>\n",
       "      <td>0.034787</td>\n",
       "      <td>0.000000</td>\n",
       "    </tr>\n",
       "    <tr>\n",
       "      <th>1</th>\n",
       "      <td>0.010896</td>\n",
       "      <td>0.032356</td>\n",
       "      <td>0.004901</td>\n",
       "      <td>0.0</td>\n",
       "      <td>0.004177</td>\n",
       "      <td>0.039762</td>\n",
       "      <td>0.0</td>\n",
       "      <td>0.072043</td>\n",
       "      <td>0.022277</td>\n",
       "      <td>0.013173</td>\n",
       "    </tr>\n",
       "    <tr>\n",
       "      <th>2</th>\n",
       "      <td>0.000000</td>\n",
       "      <td>0.324707</td>\n",
       "      <td>0.009982</td>\n",
       "      <td>0.0</td>\n",
       "      <td>0.115315</td>\n",
       "      <td>0.024129</td>\n",
       "      <td>0.0</td>\n",
       "      <td>0.000000</td>\n",
       "      <td>0.172363</td>\n",
       "      <td>0.000000</td>\n",
       "    </tr>\n",
       "    <tr>\n",
       "      <th>3</th>\n",
       "      <td>0.000000</td>\n",
       "      <td>0.000000</td>\n",
       "      <td>0.000000</td>\n",
       "      <td>0.0</td>\n",
       "      <td>0.043645</td>\n",
       "      <td>0.000000</td>\n",
       "      <td>0.0</td>\n",
       "      <td>0.287995</td>\n",
       "      <td>0.004636</td>\n",
       "      <td>0.000000</td>\n",
       "    </tr>\n",
       "    <tr>\n",
       "      <th>4</th>\n",
       "      <td>0.000000</td>\n",
       "      <td>0.068362</td>\n",
       "      <td>0.054789</td>\n",
       "      <td>0.0</td>\n",
       "      <td>0.129886</td>\n",
       "      <td>0.000000</td>\n",
       "      <td>0.0</td>\n",
       "      <td>0.000000</td>\n",
       "      <td>0.000000</td>\n",
       "      <td>0.000000</td>\n",
       "    </tr>\n",
       "  </tbody>\n",
       "</table>\n",
       "</div>"
      ],
      "text/plain": [
       "          0         1         2    3         4         5    6         7  \\\n",
       "0  0.000000  0.012505  0.004332  0.0  0.085409  0.019131  0.0  0.097338   \n",
       "1  0.010896  0.032356  0.004901  0.0  0.004177  0.039762  0.0  0.072043   \n",
       "2  0.000000  0.324707  0.009982  0.0  0.115315  0.024129  0.0  0.000000   \n",
       "3  0.000000  0.000000  0.000000  0.0  0.043645  0.000000  0.0  0.287995   \n",
       "4  0.000000  0.068362  0.054789  0.0  0.129886  0.000000  0.0  0.000000   \n",
       "\n",
       "          8         9  \n",
       "0  0.034787  0.000000  \n",
       "1  0.022277  0.013173  \n",
       "2  0.172363  0.000000  \n",
       "3  0.004636  0.000000  \n",
       "4  0.000000  0.000000  "
      ]
     },
     "execution_count": 7,
     "metadata": {},
     "output_type": "execute_result"
    }
   ],
   "source": [
    "#clf.components_ weightings\n",
    "components=pd.DataFrame(doctopic)\n",
    "components.head()"
   ]
  },
  {
   "cell_type": "markdown",
   "metadata": {},
   "source": [
    "### Prep Decision Tree Model"
   ]
  },
  {
   "cell_type": "code",
   "execution_count": 8,
   "metadata": {
    "collapsed": false
   },
   "outputs": [],
   "source": [
    "#Create One Outcome Variable\n",
    "outcome_l=[]\n",
    "for response in news['newsgroup']:\n",
    "    if response=='graphics':\n",
    "        outcome=1\n",
    "    elif response=='hockey':\n",
    "        outcome=2\n",
    "    else:\n",
    "        outcome=3\n",
    "    outcome_l.append(outcome)\n",
    "news['cat_resp']=outcome_l\n",
    "\n",
    "components['cat_resp']=news['cat_resp']\n",
    "\n",
    "#Stratified Random Sample\n",
    "splits = StratifiedShuffleSplit(n_splits=3, test_size=0.3, random_state=0)\n",
    "stratification = list(splits.split(doctopic, news['cat_resp']))\n",
    "\n",
    "components['split']=(components.index.isin(stratification[0][0])).astype(int)\n",
    "\n",
    "x_train=components[list(range(10))][components['split']==1]\n",
    "x_val=components[list(range(10))][components['split']==0]\n",
    "y_train=components['cat_resp'][components['split']==1]\n",
    "y_val=components['cat_resp'][components['split']==0]"
   ]
  },
  {
   "cell_type": "markdown",
   "metadata": {},
   "source": [
    "### Decision Tree Model"
   ]
  },
  {
   "cell_type": "code",
   "execution_count": 9,
   "metadata": {
    "collapsed": false
   },
   "outputs": [
    {
     "name": "stdout",
     "output_type": "stream",
     "text": [
      "73.3 - Decision Tree Validation\n"
     ]
    }
   ],
   "source": [
    "dt = tree.DecisionTreeClassifier(max_depth=5)\n",
    "dt.fit(x_train, y_train)\n",
    "valid_dt_pred=dt.predict(x_val)\n",
    "\n",
    "#Score Validation and get accuracy\n",
    "accuracy=100*round(accuracy_score(y_val, valid_dt_pred),3)\n",
    "print(accuracy, '- Decision Tree Validation')"
   ]
  },
  {
   "cell_type": "markdown",
   "metadata": {},
   "source": [
    "### Score whole model"
   ]
  },
  {
   "cell_type": "code",
   "execution_count": 10,
   "metadata": {
    "collapsed": false
   },
   "outputs": [
    {
     "data": {
      "text/plain": [
       "0.7792642140468228"
      ]
     },
     "execution_count": 10,
     "metadata": {},
     "output_type": "execute_result"
    }
   ],
   "source": [
    "components['dt_pred'] = dt.predict(components[list(range(10))])\n",
    "components['correct_class']=(components['cat_resp']==components['dt_pred']).astype(int)\n",
    "\n",
    "#Overall Accuracy\n",
    "components['correct_class'].mean()"
   ]
  },
  {
   "cell_type": "markdown",
   "metadata": {},
   "source": [
    "### Accuracy by class"
   ]
  },
  {
   "cell_type": "code",
   "execution_count": 11,
   "metadata": {
    "collapsed": false
   },
   "outputs": [
    {
     "data": {
      "text/plain": [
       "newsgroup\n",
       "graphics    0.843434\n",
       "hockey      0.825000\n",
       "medical     0.670000\n",
       "Name: correct_class, dtype: float64"
      ]
     },
     "execution_count": 11,
     "metadata": {},
     "output_type": "execute_result"
    }
   ],
   "source": [
    "components['newsgroup']=news['newsgroup']\n",
    "components.groupby(['newsgroup'])['correct_class'].mean()"
   ]
  },
  {
   "cell_type": "code",
   "execution_count": 12,
   "metadata": {
    "collapsed": false
   },
   "outputs": [
    {
     "data": {
      "text/html": [
       "<div>\n",
       "<table border=\"1\" class=\"dataframe\">\n",
       "  <thead>\n",
       "    <tr style=\"text-align: right;\">\n",
       "      <th></th>\n",
       "      <th>0</th>\n",
       "      <th>1</th>\n",
       "      <th>2</th>\n",
       "      <th>3</th>\n",
       "      <th>4</th>\n",
       "      <th>5</th>\n",
       "      <th>6</th>\n",
       "      <th>7</th>\n",
       "      <th>8</th>\n",
       "      <th>9</th>\n",
       "      <th>cat_resp</th>\n",
       "      <th>split</th>\n",
       "      <th>dt_pred</th>\n",
       "      <th>correct_class</th>\n",
       "      <th>newsgroup</th>\n",
       "    </tr>\n",
       "  </thead>\n",
       "  <tbody>\n",
       "    <tr>\n",
       "      <th>0</th>\n",
       "      <td>0.000000</td>\n",
       "      <td>0.012505</td>\n",
       "      <td>0.004332</td>\n",
       "      <td>0.0</td>\n",
       "      <td>0.085409</td>\n",
       "      <td>0.019131</td>\n",
       "      <td>0.0</td>\n",
       "      <td>0.097338</td>\n",
       "      <td>0.034787</td>\n",
       "      <td>0.000000</td>\n",
       "      <td>1</td>\n",
       "      <td>1</td>\n",
       "      <td>1</td>\n",
       "      <td>1</td>\n",
       "      <td>graphics</td>\n",
       "    </tr>\n",
       "    <tr>\n",
       "      <th>1</th>\n",
       "      <td>0.010896</td>\n",
       "      <td>0.032356</td>\n",
       "      <td>0.004901</td>\n",
       "      <td>0.0</td>\n",
       "      <td>0.004177</td>\n",
       "      <td>0.039762</td>\n",
       "      <td>0.0</td>\n",
       "      <td>0.072043</td>\n",
       "      <td>0.022277</td>\n",
       "      <td>0.013173</td>\n",
       "      <td>1</td>\n",
       "      <td>0</td>\n",
       "      <td>2</td>\n",
       "      <td>0</td>\n",
       "      <td>graphics</td>\n",
       "    </tr>\n",
       "    <tr>\n",
       "      <th>2</th>\n",
       "      <td>0.000000</td>\n",
       "      <td>0.324707</td>\n",
       "      <td>0.009982</td>\n",
       "      <td>0.0</td>\n",
       "      <td>0.115315</td>\n",
       "      <td>0.024129</td>\n",
       "      <td>0.0</td>\n",
       "      <td>0.000000</td>\n",
       "      <td>0.172363</td>\n",
       "      <td>0.000000</td>\n",
       "      <td>1</td>\n",
       "      <td>1</td>\n",
       "      <td>1</td>\n",
       "      <td>1</td>\n",
       "      <td>graphics</td>\n",
       "    </tr>\n",
       "    <tr>\n",
       "      <th>3</th>\n",
       "      <td>0.000000</td>\n",
       "      <td>0.000000</td>\n",
       "      <td>0.000000</td>\n",
       "      <td>0.0</td>\n",
       "      <td>0.043645</td>\n",
       "      <td>0.000000</td>\n",
       "      <td>0.0</td>\n",
       "      <td>0.287995</td>\n",
       "      <td>0.004636</td>\n",
       "      <td>0.000000</td>\n",
       "      <td>1</td>\n",
       "      <td>1</td>\n",
       "      <td>1</td>\n",
       "      <td>1</td>\n",
       "      <td>graphics</td>\n",
       "    </tr>\n",
       "    <tr>\n",
       "      <th>4</th>\n",
       "      <td>0.000000</td>\n",
       "      <td>0.068362</td>\n",
       "      <td>0.054789</td>\n",
       "      <td>0.0</td>\n",
       "      <td>0.129886</td>\n",
       "      <td>0.000000</td>\n",
       "      <td>0.0</td>\n",
       "      <td>0.000000</td>\n",
       "      <td>0.000000</td>\n",
       "      <td>0.000000</td>\n",
       "      <td>1</td>\n",
       "      <td>1</td>\n",
       "      <td>1</td>\n",
       "      <td>1</td>\n",
       "      <td>graphics</td>\n",
       "    </tr>\n",
       "  </tbody>\n",
       "</table>\n",
       "</div>"
      ],
      "text/plain": [
       "          0         1         2    3         4         5    6         7  \\\n",
       "0  0.000000  0.012505  0.004332  0.0  0.085409  0.019131  0.0  0.097338   \n",
       "1  0.010896  0.032356  0.004901  0.0  0.004177  0.039762  0.0  0.072043   \n",
       "2  0.000000  0.324707  0.009982  0.0  0.115315  0.024129  0.0  0.000000   \n",
       "3  0.000000  0.000000  0.000000  0.0  0.043645  0.000000  0.0  0.287995   \n",
       "4  0.000000  0.068362  0.054789  0.0  0.129886  0.000000  0.0  0.000000   \n",
       "\n",
       "          8         9  cat_resp  split  dt_pred  correct_class newsgroup  \n",
       "0  0.034787  0.000000         1      1        1              1  graphics  \n",
       "1  0.022277  0.013173         1      0        2              0  graphics  \n",
       "2  0.172363  0.000000         1      1        1              1  graphics  \n",
       "3  0.004636  0.000000         1      1        1              1  graphics  \n",
       "4  0.000000  0.000000         1      1        1              1  graphics  "
      ]
     },
     "execution_count": 12,
     "metadata": {},
     "output_type": "execute_result"
    }
   ],
   "source": [
    "components.head()"
   ]
  }
 ],
 "metadata": {
  "kernelspec": {
   "display_name": "Python 3",
   "language": "python",
   "name": "python3"
  },
  "language_info": {
   "codemirror_mode": {
    "name": "ipython",
    "version": 3
   },
   "file_extension": ".py",
   "mimetype": "text/x-python",
   "name": "python",
   "nbconvert_exporter": "python",
   "pygments_lexer": "ipython3",
   "version": "3.5.2"
  }
 },
 "nbformat": 4,
 "nbformat_minor": 0
}

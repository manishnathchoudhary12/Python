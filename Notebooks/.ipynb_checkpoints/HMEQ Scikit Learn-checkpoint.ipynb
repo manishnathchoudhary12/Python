{
 "cells": [
  {
   "cell_type": "markdown",
   "metadata": {},
   "source": [
    "# HMEQ Analysis"
   ]
  },
  {
   "cell_type": "code",
   "execution_count": 39,
   "metadata": {
    "collapsed": false
   },
   "outputs": [],
   "source": [
    "import pandas as pd\n",
    "from sas7bdat import SAS7BDAT\n",
    "from matplotlib import pyplot as plt\n",
    "from sklearn.preprocessing import Imputer, scale, StandardScaler\n",
    "from sklearn.metrics import confusion_matrix, roc_auc_score, roc_curve\n",
    "from sklearn.model_selection import StratifiedShuffleSplit\n",
    "from sklearn.linear_model import LogisticRegression\n",
    "from sklearn.svm import SVC\n",
    "from sklearn.neural_network import MLPClassifier\n",
    "from sklearn.ensemble import GradientBoostingClassifier, RandomForestClassifier\n",
    "from sklearn.tree import DecisionTreeClassifier\n",
    "from sklearn.metrics import accuracy_score\n",
    "from sklearn.externals.joblib import dump\n",
    "from sklearn.externals.joblib import load\n",
    "import numpy as np\n",
    "%matplotlib inline\n",
    "\n",
    "hmeq=pd.read_csv('C:/Programming/Python Scripts/HMEQ/HMEQ.csv')\n",
    "hmeq.head()\n",
    "\n",
    "#Set variables for later use\n",
    "target=\"BAD\"\n",
    "class_inputs    = ['IMP_JOB_Office', 'IMP_JOB_Other', 'IMP_JOB_ProfExe', 'IMP_JOB_Sales',\n",
    "                   'IMP_JOB_Self', 'IMP_REASON_HomeImp']\n",
    "interval_inputs = [\"IMP_CLAGE\", \"IMP_CLNO\", \"IMP_DEBTINC\", \"LOAN\", \n",
    "                   \"IMP_MORTDUE\", \"IMP_VALUE\", \"IMP_YOJ\", \"IMP_NINQ\", \"IMP_DEROG\", \"IMP_DELINQ\"]\n",
    "class_vars      = [target] + class_inputs\n",
    "all_inputs      = interval_inputs + class_inputs"
   ]
  },
  {
   "cell_type": "code",
   "execution_count": 40,
   "metadata": {
    "collapsed": false,
    "scrolled": false
   },
   "outputs": [
    {
     "data": {
      "text/html": [
       "<div>\n",
       "<table border=\"1\" class=\"dataframe\">\n",
       "  <thead>\n",
       "    <tr style=\"text-align: right;\">\n",
       "      <th></th>\n",
       "      <th>BAD</th>\n",
       "      <th>LOAN</th>\n",
       "      <th>MORTDUE</th>\n",
       "      <th>VALUE</th>\n",
       "      <th>REASON</th>\n",
       "      <th>JOB</th>\n",
       "      <th>YOJ</th>\n",
       "      <th>DEROG</th>\n",
       "      <th>DELINQ</th>\n",
       "      <th>CLAGE</th>\n",
       "      <th>NINQ</th>\n",
       "      <th>CLNO</th>\n",
       "      <th>DEBTINC</th>\n",
       "    </tr>\n",
       "  </thead>\n",
       "  <tbody>\n",
       "    <tr>\n",
       "      <th>0</th>\n",
       "      <td>1</td>\n",
       "      <td>1100</td>\n",
       "      <td>25860.0</td>\n",
       "      <td>39025.0</td>\n",
       "      <td>HomeImp</td>\n",
       "      <td>Other</td>\n",
       "      <td>10.5</td>\n",
       "      <td>0.0</td>\n",
       "      <td>0.0</td>\n",
       "      <td>94.366667</td>\n",
       "      <td>1.0</td>\n",
       "      <td>9.0</td>\n",
       "      <td>NaN</td>\n",
       "    </tr>\n",
       "    <tr>\n",
       "      <th>1</th>\n",
       "      <td>1</td>\n",
       "      <td>1300</td>\n",
       "      <td>70053.0</td>\n",
       "      <td>68400.0</td>\n",
       "      <td>HomeImp</td>\n",
       "      <td>Other</td>\n",
       "      <td>7.0</td>\n",
       "      <td>0.0</td>\n",
       "      <td>2.0</td>\n",
       "      <td>121.833333</td>\n",
       "      <td>0.0</td>\n",
       "      <td>14.0</td>\n",
       "      <td>NaN</td>\n",
       "    </tr>\n",
       "    <tr>\n",
       "      <th>2</th>\n",
       "      <td>1</td>\n",
       "      <td>1500</td>\n",
       "      <td>13500.0</td>\n",
       "      <td>16700.0</td>\n",
       "      <td>HomeImp</td>\n",
       "      <td>Other</td>\n",
       "      <td>4.0</td>\n",
       "      <td>0.0</td>\n",
       "      <td>0.0</td>\n",
       "      <td>149.466667</td>\n",
       "      <td>1.0</td>\n",
       "      <td>10.0</td>\n",
       "      <td>NaN</td>\n",
       "    </tr>\n",
       "    <tr>\n",
       "      <th>3</th>\n",
       "      <td>1</td>\n",
       "      <td>1500</td>\n",
       "      <td>NaN</td>\n",
       "      <td>NaN</td>\n",
       "      <td>NaN</td>\n",
       "      <td>NaN</td>\n",
       "      <td>NaN</td>\n",
       "      <td>NaN</td>\n",
       "      <td>NaN</td>\n",
       "      <td>NaN</td>\n",
       "      <td>NaN</td>\n",
       "      <td>NaN</td>\n",
       "      <td>NaN</td>\n",
       "    </tr>\n",
       "    <tr>\n",
       "      <th>4</th>\n",
       "      <td>0</td>\n",
       "      <td>1700</td>\n",
       "      <td>97800.0</td>\n",
       "      <td>112000.0</td>\n",
       "      <td>HomeImp</td>\n",
       "      <td>Office</td>\n",
       "      <td>3.0</td>\n",
       "      <td>0.0</td>\n",
       "      <td>0.0</td>\n",
       "      <td>93.333333</td>\n",
       "      <td>0.0</td>\n",
       "      <td>14.0</td>\n",
       "      <td>NaN</td>\n",
       "    </tr>\n",
       "  </tbody>\n",
       "</table>\n",
       "</div>"
      ],
      "text/plain": [
       "   BAD  LOAN  MORTDUE     VALUE   REASON     JOB   YOJ  DEROG  DELINQ  \\\n",
       "0    1  1100  25860.0   39025.0  HomeImp   Other  10.5    0.0     0.0   \n",
       "1    1  1300  70053.0   68400.0  HomeImp   Other   7.0    0.0     2.0   \n",
       "2    1  1500  13500.0   16700.0  HomeImp   Other   4.0    0.0     0.0   \n",
       "3    1  1500      NaN       NaN      NaN     NaN   NaN    NaN     NaN   \n",
       "4    0  1700  97800.0  112000.0  HomeImp  Office   3.0    0.0     0.0   \n",
       "\n",
       "        CLAGE  NINQ  CLNO  DEBTINC  \n",
       "0   94.366667   1.0   9.0      NaN  \n",
       "1  121.833333   0.0  14.0      NaN  \n",
       "2  149.466667   1.0  10.0      NaN  \n",
       "3         NaN   NaN   NaN      NaN  \n",
       "4   93.333333   0.0  14.0      NaN  "
      ]
     },
     "execution_count": 40,
     "metadata": {},
     "output_type": "execute_result"
    }
   ],
   "source": [
    "hmeq.head()"
   ]
  },
  {
   "cell_type": "markdown",
   "metadata": {},
   "source": [
    "### Character Variable Frequency"
   ]
  },
  {
   "cell_type": "code",
   "execution_count": 41,
   "metadata": {
    "collapsed": false
   },
   "outputs": [
    {
     "data": {
      "text/plain": [
       "(DebtCon    3928\n",
       " HomeImp    1780\n",
       " Name: REASON, dtype: int64, Other      2388\n",
       " ProfExe    1276\n",
       " Office      948\n",
       " Mgr         767\n",
       " Self        193\n",
       " Sales       109\n",
       " Name: JOB, dtype: int64)"
      ]
     },
     "execution_count": 41,
     "metadata": {},
     "output_type": "execute_result"
    }
   ],
   "source": [
    "hmeq['REASON'].value_counts(), hmeq['JOB'].value_counts()"
   ]
  },
  {
   "cell_type": "markdown",
   "metadata": {},
   "source": [
    "### Missing Values"
   ]
  },
  {
   "cell_type": "code",
   "execution_count": 42,
   "metadata": {
    "collapsed": false
   },
   "outputs": [
    {
     "data": {
      "text/plain": [
       "BAD           0\n",
       "LOAN          0\n",
       "MORTDUE     518\n",
       "VALUE       112\n",
       "REASON      252\n",
       "JOB         279\n",
       "YOJ         515\n",
       "DEROG       708\n",
       "DELINQ      580\n",
       "CLAGE       308\n",
       "NINQ        510\n",
       "CLNO        222\n",
       "DEBTINC    1267\n",
       "dtype: int64"
      ]
     },
     "execution_count": 42,
     "metadata": {},
     "output_type": "execute_result"
    }
   ],
   "source": [
    "hmeq[hmeq.columns].isnull().sum()"
   ]
  },
  {
   "cell_type": "code",
   "execution_count": 43,
   "metadata": {
    "collapsed": false,
    "scrolled": true
   },
   "outputs": [
    {
     "data": {
      "image/png": "[encoded data removed]",
      "text/plain": [
       "<matplotlib.figure.Figure at 0x66a9198>"
      ]
     },
     "metadata": {},
     "output_type": "display_data"
    }
   ],
   "source": [
    "tbl_forplot = pd.Series((hmeq[hmeq.columns].isnull().sum())/len(hmeq), index=hmeq.columns)\n",
    "ax = tbl_forplot.plot(\n",
    "  kind  ='bar', \n",
    "  title ='Percentage of Missing Values'\n",
    ")\n",
    "ax.set_ylabel('Percent Missing')\n",
    "ax.set_xlabel('Variable Names')\n",
    "plt.show()"
   ]
  },
  {
   "cell_type": "markdown",
   "metadata": {},
   "source": [
    "### Imputation of Character Variables"
   ]
  },
  {
   "cell_type": "code",
   "execution_count": 44,
   "metadata": {
    "collapsed": false
   },
   "outputs": [],
   "source": [
    "hmeq['IMP_REASON'] = hmeq['REASON'].fillna('DebtCon')\n",
    "hmeq['IMP_JOB'] = hmeq['JOB'].fillna('Other')"
   ]
  },
  {
   "cell_type": "code",
   "execution_count": 45,
   "metadata": {
    "collapsed": false,
    "scrolled": true
   },
   "outputs": [
    {
     "data": {
      "text/html": [
       "<div>\n",
       "<table border=\"1\" class=\"dataframe\">\n",
       "  <thead>\n",
       "    <tr style=\"text-align: right;\">\n",
       "      <th></th>\n",
       "      <th>BAD</th>\n",
       "      <th>LOAN</th>\n",
       "      <th>MORTDUE</th>\n",
       "      <th>VALUE</th>\n",
       "      <th>REASON</th>\n",
       "      <th>JOB</th>\n",
       "      <th>YOJ</th>\n",
       "      <th>DEROG</th>\n",
       "      <th>DELINQ</th>\n",
       "      <th>CLAGE</th>\n",
       "      <th>...</th>\n",
       "      <th>IMP_JOB</th>\n",
       "      <th>IMP_CLAGE</th>\n",
       "      <th>IMP_MORTDUE</th>\n",
       "      <th>IMP_NINQ</th>\n",
       "      <th>IMP_DEROG</th>\n",
       "      <th>IMP_DELINQ</th>\n",
       "      <th>IMP_VALUE</th>\n",
       "      <th>IMP_CLNO</th>\n",
       "      <th>IMP_DEBTINC</th>\n",
       "      <th>IMP_YOJ</th>\n",
       "    </tr>\n",
       "  </thead>\n",
       "  <tbody>\n",
       "    <tr>\n",
       "      <th>0</th>\n",
       "      <td>1</td>\n",
       "      <td>1100</td>\n",
       "      <td>25860.0</td>\n",
       "      <td>39025.0</td>\n",
       "      <td>HomeImp</td>\n",
       "      <td>Other</td>\n",
       "      <td>10.5</td>\n",
       "      <td>0.0</td>\n",
       "      <td>0.0</td>\n",
       "      <td>94.366667</td>\n",
       "      <td>...</td>\n",
       "      <td>Other</td>\n",
       "      <td>94.366667</td>\n",
       "      <td>25860.0000</td>\n",
       "      <td>1.000000</td>\n",
       "      <td>0.00000</td>\n",
       "      <td>0.0</td>\n",
       "      <td>39025.0</td>\n",
       "      <td>9.0</td>\n",
       "      <td>0.524499</td>\n",
       "      <td>10.5</td>\n",
       "    </tr>\n",
       "    <tr>\n",
       "      <th>1</th>\n",
       "      <td>1</td>\n",
       "      <td>1300</td>\n",
       "      <td>70053.0</td>\n",
       "      <td>68400.0</td>\n",
       "      <td>HomeImp</td>\n",
       "      <td>Other</td>\n",
       "      <td>7.0</td>\n",
       "      <td>0.0</td>\n",
       "      <td>2.0</td>\n",
       "      <td>121.833333</td>\n",
       "      <td>...</td>\n",
       "      <td>Other</td>\n",
       "      <td>121.833333</td>\n",
       "      <td>70053.0000</td>\n",
       "      <td>0.000000</td>\n",
       "      <td>0.00000</td>\n",
       "      <td>2.0</td>\n",
       "      <td>68400.0</td>\n",
       "      <td>14.0</td>\n",
       "      <td>0.524499</td>\n",
       "      <td>7.0</td>\n",
       "    </tr>\n",
       "    <tr>\n",
       "      <th>2</th>\n",
       "      <td>1</td>\n",
       "      <td>1500</td>\n",
       "      <td>13500.0</td>\n",
       "      <td>16700.0</td>\n",
       "      <td>HomeImp</td>\n",
       "      <td>Other</td>\n",
       "      <td>4.0</td>\n",
       "      <td>0.0</td>\n",
       "      <td>0.0</td>\n",
       "      <td>149.466667</td>\n",
       "      <td>...</td>\n",
       "      <td>Other</td>\n",
       "      <td>149.466667</td>\n",
       "      <td>13500.0000</td>\n",
       "      <td>1.000000</td>\n",
       "      <td>0.00000</td>\n",
       "      <td>0.0</td>\n",
       "      <td>16700.0</td>\n",
       "      <td>10.0</td>\n",
       "      <td>0.524499</td>\n",
       "      <td>4.0</td>\n",
       "    </tr>\n",
       "    <tr>\n",
       "      <th>3</th>\n",
       "      <td>1</td>\n",
       "      <td>1500</td>\n",
       "      <td>NaN</td>\n",
       "      <td>NaN</td>\n",
       "      <td>NaN</td>\n",
       "      <td>NaN</td>\n",
       "      <td>NaN</td>\n",
       "      <td>NaN</td>\n",
       "      <td>NaN</td>\n",
       "      <td>NaN</td>\n",
       "      <td>...</td>\n",
       "      <td>Other</td>\n",
       "      <td>179.766275</td>\n",
       "      <td>73760.8172</td>\n",
       "      <td>1.186055</td>\n",
       "      <td>0.25457</td>\n",
       "      <td>0.0</td>\n",
       "      <td>60000.0</td>\n",
       "      <td>16.0</td>\n",
       "      <td>0.524499</td>\n",
       "      <td>0.0</td>\n",
       "    </tr>\n",
       "    <tr>\n",
       "      <th>4</th>\n",
       "      <td>0</td>\n",
       "      <td>1700</td>\n",
       "      <td>97800.0</td>\n",
       "      <td>112000.0</td>\n",
       "      <td>HomeImp</td>\n",
       "      <td>Office</td>\n",
       "      <td>3.0</td>\n",
       "      <td>0.0</td>\n",
       "      <td>0.0</td>\n",
       "      <td>93.333333</td>\n",
       "      <td>...</td>\n",
       "      <td>Office</td>\n",
       "      <td>93.333333</td>\n",
       "      <td>97800.0000</td>\n",
       "      <td>0.000000</td>\n",
       "      <td>0.00000</td>\n",
       "      <td>0.0</td>\n",
       "      <td>112000.0</td>\n",
       "      <td>14.0</td>\n",
       "      <td>0.524499</td>\n",
       "      <td>3.0</td>\n",
       "    </tr>\n",
       "  </tbody>\n",
       "</table>\n",
       "<p>5 rows × 24 columns</p>\n",
       "</div>"
      ],
      "text/plain": [
       "   BAD  LOAN  MORTDUE     VALUE   REASON     JOB   YOJ  DEROG  DELINQ  \\\n",
       "0    1  1100  25860.0   39025.0  HomeImp   Other  10.5    0.0     0.0   \n",
       "1    1  1300  70053.0   68400.0  HomeImp   Other   7.0    0.0     2.0   \n",
       "2    1  1500  13500.0   16700.0  HomeImp   Other   4.0    0.0     0.0   \n",
       "3    1  1500      NaN       NaN      NaN     NaN   NaN    NaN     NaN   \n",
       "4    0  1700  97800.0  112000.0  HomeImp  Office   3.0    0.0     0.0   \n",
       "\n",
       "        CLAGE   ...     IMP_JOB   IMP_CLAGE  IMP_MORTDUE  IMP_NINQ IMP_DEROG  \\\n",
       "0   94.366667   ...       Other   94.366667   25860.0000  1.000000   0.00000   \n",
       "1  121.833333   ...       Other  121.833333   70053.0000  0.000000   0.00000   \n",
       "2  149.466667   ...       Other  149.466667   13500.0000  1.000000   0.00000   \n",
       "3         NaN   ...       Other  179.766275   73760.8172  1.186055   0.25457   \n",
       "4   93.333333   ...      Office   93.333333   97800.0000  0.000000   0.00000   \n",
       "\n",
       "   IMP_DELINQ  IMP_VALUE  IMP_CLNO  IMP_DEBTINC  IMP_YOJ  \n",
       "0         0.0    39025.0       9.0     0.524499     10.5  \n",
       "1         2.0    68400.0      14.0     0.524499      7.0  \n",
       "2         0.0    16700.0      10.0     0.524499      4.0  \n",
       "3         0.0    60000.0      16.0     0.524499      0.0  \n",
       "4         0.0   112000.0      14.0     0.524499      3.0  \n",
       "\n",
       "[5 rows x 24 columns]"
      ]
     },
     "execution_count": 45,
     "metadata": {},
     "output_type": "execute_result"
    }
   ],
   "source": [
    "mean_imp = Imputer(missing_values='NaN', strategy='mean', axis=0)\n",
    "mean=pd.DataFrame(mean_imp.fit_transform(hmeq[['CLAGE','MORTDUE','NINQ','DEROG']]),\n",
    "                  columns=['IMP_CLAGE','IMP_MORTDUE','IMP_NINQ','IMP_DEROG'])\n",
    "\n",
    "median_imp = Imputer(missing_values='NaN', strategy='most_frequent', axis=0)\n",
    "median = pd.DataFrame(median_imp.fit_transform(hmeq[['DELINQ','VALUE','CLNO','DEBTINC','YOJ']]), \n",
    "                      columns=['IMP_DELINQ','IMP_VALUE','IMP_CLNO','IMP_DEBTINC','IMP_YOJ'])\n",
    "\n",
    "hmeq = pd.concat([hmeq, mean, median], axis=1)\n",
    "hmeq.head()"
   ]
  },
  {
   "cell_type": "markdown",
   "metadata": {},
   "source": [
    "### Stratified Random Sample"
   ]
  },
  {
   "cell_type": "code",
   "execution_count": 46,
   "metadata": {
    "collapsed": false
   },
   "outputs": [
    {
     "data": {
      "text/html": [
       "<div>\n",
       "<table border=\"1\" class=\"dataframe\">\n",
       "  <thead>\n",
       "    <tr style=\"text-align: right;\">\n",
       "      <th></th>\n",
       "      <th>BAD</th>\n",
       "      <th>LOAN</th>\n",
       "      <th>MORTDUE</th>\n",
       "      <th>VALUE</th>\n",
       "      <th>REASON</th>\n",
       "      <th>JOB</th>\n",
       "      <th>YOJ</th>\n",
       "      <th>DEROG</th>\n",
       "      <th>DELINQ</th>\n",
       "      <th>CLAGE</th>\n",
       "      <th>...</th>\n",
       "      <th>IMP_CLAGE</th>\n",
       "      <th>IMP_MORTDUE</th>\n",
       "      <th>IMP_NINQ</th>\n",
       "      <th>IMP_DEROG</th>\n",
       "      <th>IMP_DELINQ</th>\n",
       "      <th>IMP_VALUE</th>\n",
       "      <th>IMP_CLNO</th>\n",
       "      <th>IMP_DEBTINC</th>\n",
       "      <th>IMP_YOJ</th>\n",
       "      <th>SPLIT</th>\n",
       "    </tr>\n",
       "  </thead>\n",
       "  <tbody>\n",
       "    <tr>\n",
       "      <th>0</th>\n",
       "      <td>1</td>\n",
       "      <td>1100</td>\n",
       "      <td>25860.0</td>\n",
       "      <td>39025.0</td>\n",
       "      <td>HomeImp</td>\n",
       "      <td>Other</td>\n",
       "      <td>10.5</td>\n",
       "      <td>0.0</td>\n",
       "      <td>0.0</td>\n",
       "      <td>94.366667</td>\n",
       "      <td>...</td>\n",
       "      <td>94.366667</td>\n",
       "      <td>25860.0000</td>\n",
       "      <td>1.000000</td>\n",
       "      <td>0.00000</td>\n",
       "      <td>0.0</td>\n",
       "      <td>39025.0</td>\n",
       "      <td>9.0</td>\n",
       "      <td>0.524499</td>\n",
       "      <td>10.5</td>\n",
       "      <td>0</td>\n",
       "    </tr>\n",
       "    <tr>\n",
       "      <th>1</th>\n",
       "      <td>1</td>\n",
       "      <td>1300</td>\n",
       "      <td>70053.0</td>\n",
       "      <td>68400.0</td>\n",
       "      <td>HomeImp</td>\n",
       "      <td>Other</td>\n",
       "      <td>7.0</td>\n",
       "      <td>0.0</td>\n",
       "      <td>2.0</td>\n",
       "      <td>121.833333</td>\n",
       "      <td>...</td>\n",
       "      <td>121.833333</td>\n",
       "      <td>70053.0000</td>\n",
       "      <td>0.000000</td>\n",
       "      <td>0.00000</td>\n",
       "      <td>2.0</td>\n",
       "      <td>68400.0</td>\n",
       "      <td>14.0</td>\n",
       "      <td>0.524499</td>\n",
       "      <td>7.0</td>\n",
       "      <td>1</td>\n",
       "    </tr>\n",
       "    <tr>\n",
       "      <th>2</th>\n",
       "      <td>1</td>\n",
       "      <td>1500</td>\n",
       "      <td>13500.0</td>\n",
       "      <td>16700.0</td>\n",
       "      <td>HomeImp</td>\n",
       "      <td>Other</td>\n",
       "      <td>4.0</td>\n",
       "      <td>0.0</td>\n",
       "      <td>0.0</td>\n",
       "      <td>149.466667</td>\n",
       "      <td>...</td>\n",
       "      <td>149.466667</td>\n",
       "      <td>13500.0000</td>\n",
       "      <td>1.000000</td>\n",
       "      <td>0.00000</td>\n",
       "      <td>0.0</td>\n",
       "      <td>16700.0</td>\n",
       "      <td>10.0</td>\n",
       "      <td>0.524499</td>\n",
       "      <td>4.0</td>\n",
       "      <td>0</td>\n",
       "    </tr>\n",
       "    <tr>\n",
       "      <th>3</th>\n",
       "      <td>1</td>\n",
       "      <td>1500</td>\n",
       "      <td>NaN</td>\n",
       "      <td>NaN</td>\n",
       "      <td>NaN</td>\n",
       "      <td>NaN</td>\n",
       "      <td>NaN</td>\n",
       "      <td>NaN</td>\n",
       "      <td>NaN</td>\n",
       "      <td>NaN</td>\n",
       "      <td>...</td>\n",
       "      <td>179.766275</td>\n",
       "      <td>73760.8172</td>\n",
       "      <td>1.186055</td>\n",
       "      <td>0.25457</td>\n",
       "      <td>0.0</td>\n",
       "      <td>60000.0</td>\n",
       "      <td>16.0</td>\n",
       "      <td>0.524499</td>\n",
       "      <td>0.0</td>\n",
       "      <td>1</td>\n",
       "    </tr>\n",
       "    <tr>\n",
       "      <th>4</th>\n",
       "      <td>0</td>\n",
       "      <td>1700</td>\n",
       "      <td>97800.0</td>\n",
       "      <td>112000.0</td>\n",
       "      <td>HomeImp</td>\n",
       "      <td>Office</td>\n",
       "      <td>3.0</td>\n",
       "      <td>0.0</td>\n",
       "      <td>0.0</td>\n",
       "      <td>93.333333</td>\n",
       "      <td>...</td>\n",
       "      <td>93.333333</td>\n",
       "      <td>97800.0000</td>\n",
       "      <td>0.000000</td>\n",
       "      <td>0.00000</td>\n",
       "      <td>0.0</td>\n",
       "      <td>112000.0</td>\n",
       "      <td>14.0</td>\n",
       "      <td>0.524499</td>\n",
       "      <td>3.0</td>\n",
       "      <td>1</td>\n",
       "    </tr>\n",
       "  </tbody>\n",
       "</table>\n",
       "<p>5 rows × 25 columns</p>\n",
       "</div>"
      ],
      "text/plain": [
       "   BAD  LOAN  MORTDUE     VALUE   REASON     JOB   YOJ  DEROG  DELINQ  \\\n",
       "0    1  1100  25860.0   39025.0  HomeImp   Other  10.5    0.0     0.0   \n",
       "1    1  1300  70053.0   68400.0  HomeImp   Other   7.0    0.0     2.0   \n",
       "2    1  1500  13500.0   16700.0  HomeImp   Other   4.0    0.0     0.0   \n",
       "3    1  1500      NaN       NaN      NaN     NaN   NaN    NaN     NaN   \n",
       "4    0  1700  97800.0  112000.0  HomeImp  Office   3.0    0.0     0.0   \n",
       "\n",
       "        CLAGE  ...     IMP_CLAGE  IMP_MORTDUE  IMP_NINQ IMP_DEROG IMP_DELINQ  \\\n",
       "0   94.366667  ...     94.366667   25860.0000  1.000000   0.00000        0.0   \n",
       "1  121.833333  ...    121.833333   70053.0000  0.000000   0.00000        2.0   \n",
       "2  149.466667  ...    149.466667   13500.0000  1.000000   0.00000        0.0   \n",
       "3         NaN  ...    179.766275   73760.8172  1.186055   0.25457        0.0   \n",
       "4   93.333333  ...     93.333333   97800.0000  0.000000   0.00000        0.0   \n",
       "\n",
       "   IMP_VALUE  IMP_CLNO  IMP_DEBTINC  IMP_YOJ  SPLIT  \n",
       "0    39025.0       9.0     0.524499     10.5      0  \n",
       "1    68400.0      14.0     0.524499      7.0      1  \n",
       "2    16700.0      10.0     0.524499      4.0      0  \n",
       "3    60000.0      16.0     0.524499      0.0      1  \n",
       "4   112000.0      14.0     0.524499      3.0      1  \n",
       "\n",
       "[5 rows x 25 columns]"
      ]
     },
     "execution_count": 46,
     "metadata": {},
     "output_type": "execute_result"
    }
   ],
   "source": [
    "stratified=StratifiedShuffleSplit(n_splits=1, test_size=.3, random_state=1234)\n",
    "stratification = list(stratified.split(hmeq, hmeq['BAD']))\n",
    "\n",
    "hmeq['SPLIT'] = (hmeq.index.isin(stratification[0][0])).astype(int)\n",
    "hmeq.head()"
   ]
  },
  {
   "cell_type": "markdown",
   "metadata": {},
   "source": [
    "### Check Stratification"
   ]
  },
  {
   "cell_type": "code",
   "execution_count": 47,
   "metadata": {
    "collapsed": false
   },
   "outputs": [
    {
     "name": "stdout",
     "output_type": "stream",
     "text": [
      "SPLIT\n",
      "0    0.199664\n",
      "1    0.199425\n",
      "Name: BAD, dtype: float64\n",
      "0.199496644295302\n"
     ]
    }
   ],
   "source": [
    "splits = hmeq.groupby('SPLIT')\n",
    "print(splits['BAD'].mean())\n",
    "print(hmeq['BAD'].mean())"
   ]
  },
  {
   "cell_type": "markdown",
   "metadata": {
    "collapsed": true
   },
   "source": [
    "### Encode Character Variables"
   ]
  },
  {
   "cell_type": "code",
   "execution_count": 48,
   "metadata": {
    "collapsed": false,
    "scrolled": true
   },
   "outputs": [
    {
     "data": {
      "text/plain": [
       "Index(['BAD', 'LOAN', 'MORTDUE', 'VALUE', 'REASON', 'JOB', 'YOJ', 'DEROG',\n",
       "       'DELINQ', 'CLAGE', 'NINQ', 'CLNO', 'DEBTINC', 'IMP_REASON', 'IMP_JOB',\n",
       "       'IMP_CLAGE', 'IMP_MORTDUE', 'IMP_NINQ', 'IMP_DEROG', 'IMP_DELINQ',\n",
       "       'IMP_VALUE', 'IMP_CLNO', 'IMP_DEBTINC', 'IMP_YOJ', 'SPLIT',\n",
       "       'IMP_JOB_Office', 'IMP_JOB_Other', 'IMP_JOB_ProfExe', 'IMP_JOB_Sales',\n",
       "       'IMP_JOB_Self', 'IMP_REASON_HomeImp'],\n",
       "      dtype='object')"
      ]
     },
     "execution_count": 48,
     "metadata": {},
     "output_type": "execute_result"
    }
   ],
   "source": [
    "hmeq=  pd.concat([hmeq, pd.get_dummies(hmeq[['IMP_JOB','IMP_REASON']],drop_first=True)], axis=1)\n",
    "\n",
    "#See resulting columns\n",
    "hmeq.columns"
   ]
  },
  {
   "cell_type": "markdown",
   "metadata": {},
   "source": [
    "# Modeling"
   ]
  },
  {
   "cell_type": "code",
   "execution_count": 49,
   "metadata": {
    "collapsed": false
   },
   "outputs": [],
   "source": [
    "#Helper variables\n",
    "X_train=hmeq[all_inputs][hmeq['SPLIT']==1]\n",
    "Y_train=hmeq['BAD'][hmeq['SPLIT']==1]\n",
    "X_valid=hmeq[all_inputs][hmeq['SPLIT']==0]\n",
    "Y_valid=hmeq['BAD'][hmeq['SPLIT']==0]\n",
    "\n",
    "#Max 1, Min 0 Neural Net\n",
    "scaler = StandardScaler()  \n",
    "scaler.fit(X_train)  \n",
    "X_ss_train = scaler.transform(X_train)\n",
    "X_ss_valid = scaler.transform(X_valid)\n",
    "\n",
    "roc_dct = dict()"
   ]
  },
  {
   "cell_type": "markdown",
   "metadata": {},
   "source": [
    "### Neural Network"
   ]
  },
  {
   "cell_type": "code",
   "execution_count": 50,
   "metadata": {
    "collapsed": false
   },
   "outputs": [
    {
     "name": "stdout",
     "output_type": "stream",
     "text": [
      "Confusion Matrix NN\n",
      " [[1363   68]\n",
      " [ 135  222]] \n",
      "\n",
      "Misclassification NN\n",
      " 0.113534675615\n"
     ]
    }
   ],
   "source": [
    "nnet = MLPClassifier(solver='lbfgs', alpha=1e-5, hidden_layer_sizes=(5, 2), random_state=1)\n",
    "nnet.fit(X_ss_train, Y_train)\n",
    "\n",
    "valid_nn_pred = nnet.predict(X_ss_valid) #Uses .5 cutoff\n",
    "nn_prob = nnet.predict_proba(X_ss_valid)[:,1]\n",
    "\n",
    "validation_matrix = confusion_matrix(Y_valid, valid_nn_pred)\n",
    "misclassification = 1 - accuracy_score(Y_valid, valid_nn_pred)\n",
    "\n",
    "print(\"Confusion Matrix NN\\n\", validation_matrix, \"\\n\")\n",
    "print( \"Misclassification NN\\n\", misclassification,)\n",
    "\n",
    "roc_dct['Neural Network'] = (misclassification, nn_prob)"
   ]
  },
  {
   "cell_type": "markdown",
   "metadata": {
    "collapsed": false
   },
   "source": [
    "### Logistic Regression"
   ]
  },
  {
   "cell_type": "code",
   "execution_count": 51,
   "metadata": {
    "collapsed": false
   },
   "outputs": [
    {
     "name": "stdout",
     "output_type": "stream",
     "text": [
      "Confusion Matrix LM\n",
      " [[1378   53]\n",
      " [ 230  127]] \n",
      "\n",
      "Misclassification LM\n",
      " 0.158277404922\n"
     ]
    }
   ],
   "source": [
    "lm = LogisticRegression(C=1)\n",
    "lm.fit(X_train, Y_train)\n",
    "\n",
    "valid_lm_pred = lm.predict(X_valid)\n",
    "lm_prob=lm.predict_proba(X_valid)[:,1]\n",
    "\n",
    "misclassification = 1 -accuracy_score(Y_valid, valid_lm_pred)\n",
    "validation_matrix = confusion_matrix(Y_valid, valid_lm_pred)\n",
    "\n",
    "print(\"Confusion Matrix LM\\n\", validation_matrix, \"\\n\")\n",
    "print( \"Misclassification LM\\n\", misclassification,)\n",
    "\n",
    "roc_dct['Logistic Regression'] = (misclassification, lm_prob)"
   ]
  },
  {
   "cell_type": "markdown",
   "metadata": {},
   "source": [
    "### Gradient Boosting"
   ]
  },
  {
   "cell_type": "code",
   "execution_count": 52,
   "metadata": {
    "collapsed": false
   },
   "outputs": [
    {
     "name": "stdout",
     "output_type": "stream",
     "text": [
      "Confusion Matrix GB\n",
      " [[1382   49]\n",
      " [ 132  225]] \n",
      "\n",
      "Misclassification GB\n",
      " 0.101230425056\n"
     ]
    }
   ],
   "source": [
    "gb = GradientBoostingClassifier()\n",
    "gb.fit(X_train, Y_train)\n",
    "\n",
    "valid_gb_pred=gb.predict(X_valid)\n",
    "gb_prob = gb.predict_proba(X_valid)[:,1]\n",
    "\n",
    "validation_matrix=confusion_matrix(Y_valid, valid_gb_pred)\n",
    "misclassification = 1 - accuracy_score(Y_valid, valid_gb_pred)\n",
    "\n",
    "print(\"Confusion Matrix GB\\n\", validation_matrix, \"\\n\")\n",
    "print( \"Misclassification GB\\n\", misclassification,)\n",
    "\n",
    "roc_dct['Gradient Boosting'] = (misclassification, gb_prob)"
   ]
  },
  {
   "cell_type": "markdown",
   "metadata": {},
   "source": [
    "### Support Vector"
   ]
  },
  {
   "cell_type": "code",
   "execution_count": 53,
   "metadata": {
    "collapsed": false
   },
   "outputs": [
    {
     "name": "stdout",
     "output_type": "stream",
     "text": [
      "Confusion Matrix SVM\n",
      " [[1431    0]\n",
      " [ 357    0]] \n",
      "\n",
      "Misclassification SVM\n",
      " 0.19966442953\n"
     ]
    }
   ],
   "source": [
    "sv_m = SVC(kernel='rbf', probability=True)\n",
    "sv_m.fit(X_train, Y_train)\n",
    "\n",
    "valid_svm_pred = sv_m.predict(X_valid)\n",
    "svm_prob=sv_m.predict_proba(X_valid)[:,1]\n",
    "\n",
    "validation_matrix = confusion_matrix(Y_valid, valid_svm_pred)\n",
    "misclassification = 1 - accuracy_score(Y_valid, valid_svm_pred)\n",
    "\n",
    "print(\"Confusion Matrix SVM\\n\", validation_matrix, \"\\n\")\n",
    "print( \"Misclassification SVM\\n\", misclassification,)\n",
    "\n",
    "roc_dct['Support Vector'] = (misclassification, svm_prob)"
   ]
  },
  {
   "cell_type": "markdown",
   "metadata": {},
   "source": [
    "### Random Forest"
   ]
  },
  {
   "cell_type": "code",
   "execution_count": 54,
   "metadata": {
    "collapsed": false
   },
   "outputs": [
    {
     "name": "stdout",
     "output_type": "stream",
     "text": [
      "Confusion Matrix RF\n",
      " [[1383   48]\n",
      " [ 116  241]] \n",
      "\n",
      "Misclassification RF\n",
      " 0.0917225950783 \n",
      "\n",
      "Misclassification - RF OOB\n",
      " 0.0992329817833\n"
     ]
    }
   ],
   "source": [
    "rf = RandomForestClassifier(n_estimators=100, oob_score=True)\n",
    "rf.fit(X_train, Y_train)\n",
    "\n",
    "valid_rf_pred=rf.predict(X_valid)\n",
    "rf_prob=rf.predict_proba(X_valid)[:,1]\n",
    "\n",
    "validation_matrix=confusion_matrix(Y_valid, valid_rf_pred)\n",
    "misclassification = 1 - accuracy_score(Y_valid, valid_rf_pred)\n",
    "\n",
    "print(\"Confusion Matrix RF\\n\", validation_matrix, \"\\n\")\n",
    "print( \"Misclassification RF\\n\", misclassification, \"\\n\")\n",
    "\n",
    "oob_error = rf.oob_score_  #Lists accuracy, 1-oob = misclassification\n",
    "print(\"Misclassification - RF OOB\\n\",1 - oob_error)\n",
    "\n",
    "roc_dct['Random Forest'] = (misclassification, rf_prob)"
   ]
  },
  {
   "cell_type": "markdown",
   "metadata": {},
   "source": [
    "### Decision Tree"
   ]
  },
  {
   "cell_type": "code",
   "execution_count": 55,
   "metadata": {
    "collapsed": false
   },
   "outputs": [
    {
     "name": "stdout",
     "output_type": "stream",
     "text": [
      "Confusion Matrix DT\n",
      " [[1363   68]\n",
      " [ 168  189]] \n",
      "\n",
      "Misclassification DT\n",
      " 0.131991051454 \n",
      "\n"
     ]
    }
   ],
   "source": [
    "dt = DecisionTreeClassifier(max_depth=10)\n",
    "dt.fit(X_train, Y_train)\n",
    "\n",
    "valid_dt_pred=dt.predict(X_valid)\n",
    "dt_prob=dt.predict_proba(X_valid)[:,1]\n",
    "\n",
    "validation_matrix=confusion_matrix(Y_valid, valid_dt_pred)\n",
    "misclassification = 1 - accuracy_score(Y_valid, valid_dt_pred)\n",
    "\n",
    "print(\"Confusion Matrix DT\\n\", validation_matrix, \"\\n\")\n",
    "print( \"Misclassification DT\\n\", misclassification, \"\\n\")\n",
    "\n",
    "roc_dct['Decision Tree'] = (misclassification, dt_prob)"
   ]
  },
  {
   "cell_type": "markdown",
   "metadata": {},
   "source": [
    "# Compare Models"
   ]
  },
  {
   "cell_type": "markdown",
   "metadata": {},
   "source": [
    "### Misclassification Matrix"
   ]
  },
  {
   "cell_type": "code",
   "execution_count": 56,
   "metadata": {
    "collapsed": false
   },
   "outputs": [
    {
     "data": {
      "text/html": [
       "<div>\n",
       "<table border=\"1\" class=\"dataframe\">\n",
       "  <thead>\n",
       "    <tr style=\"text-align: right;\">\n",
       "      <th></th>\n",
       "      <th>Model</th>\n",
       "      <th>Misclassification Rate</th>\n",
       "    </tr>\n",
       "  </thead>\n",
       "  <tbody>\n",
       "    <tr>\n",
       "      <th>2</th>\n",
       "      <td>Random Forest</td>\n",
       "      <td>0.091723</td>\n",
       "    </tr>\n",
       "    <tr>\n",
       "      <th>0</th>\n",
       "      <td>Gradient Boosting</td>\n",
       "      <td>0.101230</td>\n",
       "    </tr>\n",
       "    <tr>\n",
       "      <th>1</th>\n",
       "      <td>Neural Network</td>\n",
       "      <td>0.113535</td>\n",
       "    </tr>\n",
       "    <tr>\n",
       "      <th>5</th>\n",
       "      <td>Decision Tree</td>\n",
       "      <td>0.131991</td>\n",
       "    </tr>\n",
       "    <tr>\n",
       "      <th>4</th>\n",
       "      <td>Logistic Regression</td>\n",
       "      <td>0.158277</td>\n",
       "    </tr>\n",
       "    <tr>\n",
       "      <th>3</th>\n",
       "      <td>Support Vector</td>\n",
       "      <td>0.199664</td>\n",
       "    </tr>\n",
       "  </tbody>\n",
       "</table>\n",
       "</div>"
      ],
      "text/plain": [
       "                 Model  Misclassification Rate\n",
       "2        Random Forest                0.091723\n",
       "0    Gradient Boosting                0.101230\n",
       "1       Neural Network                0.113535\n",
       "5        Decision Tree                0.131991\n",
       "4  Logistic Regression                0.158277\n",
       "3       Support Vector                0.199664"
      ]
     },
     "execution_count": 56,
     "metadata": {},
     "output_type": "execute_result"
    }
   ],
   "source": [
    "test=pd.DataFrame(((key, value[0]) for key, value in roc_dct.items()), columns=['Model', 'Misclassification Rate'])\n",
    "test.sort_values('Misclassification Rate')"
   ]
  },
  {
   "cell_type": "markdown",
   "metadata": {},
   "source": [
    "### Generate ROC Curve"
   ]
  },
  {
   "cell_type": "code",
   "execution_count": 57,
   "metadata": {
    "collapsed": false
   },
   "outputs": [
    {
     "data": {
      "image/png": "[encoded data removed]",
      "text/plain": [
       "<matplotlib.figure.Figure at 0x6419518>"
      ]
     },
     "metadata": {},
     "output_type": "display_data"
    }
   ],
   "source": [
    "plt.figure(figsize=(8, 6))\n",
    "for key,value in roc_dct.items():\n",
    "    roc = roc_auc_score(Y_valid, value[1])\n",
    "    fpr, tpr, thr = roc_curve(Y_valid, value[1])\n",
    "    plt.plot(fpr, tpr,  label='ROC curve %s (AUC = %0.2f)' %(key,  roc) )\n",
    "plt.plot([0,1], [0,1], \"k--\")\n",
    "plt.xlabel(\"False Postivie Rate\")\n",
    "plt.ylabel(\"True Positive Rate\")\n",
    "plt.legend(loc=\"best\")\n",
    "plt.title(\"ROC Curve (using validation data)\")\n",
    "plt.show()"
   ]
  },
  {
   "cell_type": "markdown",
   "metadata": {},
   "source": [
    "### Pickle best model"
   ]
  },
  {
   "cell_type": "code",
   "execution_count": 58,
   "metadata": {
    "collapsed": false
   },
   "outputs": [
    {
     "data": {
      "text/plain": [
       "['C:/Programming/Python Scripts/HMEQ/forest.sav']"
      ]
     },
     "execution_count": 58,
     "metadata": {},
     "output_type": "execute_result"
    }
   ],
   "source": [
    "filename = 'C:/Programming/Python Scripts/HMEQ/forest.sav'\n",
    "dump(rf, filename)"
   ]
  },
  {
   "cell_type": "markdown",
   "metadata": {},
   "source": [
    "### Load pickled model and score\n",
    "Score entire HMEQ.csv dataset"
   ]
  },
  {
   "cell_type": "code",
   "execution_count": 59,
   "metadata": {
    "collapsed": false
   },
   "outputs": [
    {
     "data": {
      "text/plain": [
       "array([1, 1, 1, ..., 0, 0, 0], dtype=int64)"
      ]
     },
     "execution_count": 59,
     "metadata": {},
     "output_type": "execute_result"
    }
   ],
   "source": [
    "forest_load = load(filename)\n",
    "predictions = forest_load.predict(hmeq[all_inputs])\n",
    "predictions"
   ]
  },
  {
   "cell_type": "code",
   "execution_count": 78,
   "metadata": {
    "collapsed": false
   },
   "outputs": [
    {
     "data": {
      "text/html": [
       "<div>\n",
       "<table border=\"1\" class=\"dataframe\">\n",
       "  <thead>\n",
       "    <tr style=\"text-align: right;\">\n",
       "      <th></th>\n",
       "      <th>BAD</th>\n",
       "      <th>final_prediciton</th>\n",
       "      <th>IMP_MORTDUE</th>\n",
       "      <th>LOAN</th>\n",
       "    </tr>\n",
       "  </thead>\n",
       "  <tbody>\n",
       "    <tr>\n",
       "      <th>0</th>\n",
       "      <td>1</td>\n",
       "      <td>1</td>\n",
       "      <td>25860.0000</td>\n",
       "      <td>1100</td>\n",
       "    </tr>\n",
       "    <tr>\n",
       "      <th>1</th>\n",
       "      <td>1</td>\n",
       "      <td>1</td>\n",
       "      <td>70053.0000</td>\n",
       "      <td>1300</td>\n",
       "    </tr>\n",
       "    <tr>\n",
       "      <th>2</th>\n",
       "      <td>1</td>\n",
       "      <td>1</td>\n",
       "      <td>13500.0000</td>\n",
       "      <td>1500</td>\n",
       "    </tr>\n",
       "    <tr>\n",
       "      <th>3</th>\n",
       "      <td>1</td>\n",
       "      <td>1</td>\n",
       "      <td>73760.8172</td>\n",
       "      <td>1500</td>\n",
       "    </tr>\n",
       "    <tr>\n",
       "      <th>4</th>\n",
       "      <td>0</td>\n",
       "      <td>0</td>\n",
       "      <td>97800.0000</td>\n",
       "      <td>1700</td>\n",
       "    </tr>\n",
       "  </tbody>\n",
       "</table>\n",
       "</div>"
      ],
      "text/plain": [
       "   BAD  final_prediciton  IMP_MORTDUE  LOAN\n",
       "0    1                 1   25860.0000  1100\n",
       "1    1                 1   70053.0000  1300\n",
       "2    1                 1   13500.0000  1500\n",
       "3    1                 1   73760.8172  1500\n",
       "4    0                 0   97800.0000  1700"
      ]
     },
     "execution_count": 78,
     "metadata": {},
     "output_type": "execute_result"
    }
   ],
   "source": [
    "hmeq['final_prediciton']=predictions\n",
    "hmeq[['BAD', 'final_prediciton', 'IMP_MORTDUE', 'LOAN']].head()"
   ]
  }
 ],
 "metadata": {
  "anaconda-cloud": {},
  "kernelspec": {
   "display_name": "Python 3",
   "language": "python",
   "name": "python3"
  },
  "language_info": {
   "codemirror_mode": {
    "name": "ipython",
    "version": 3
   },
   "file_extension": ".py",
   "mimetype": "text/x-python",
   "name": "python",
   "nbconvert_exporter": "python",
   "pygments_lexer": "ipython3",
   "version": "3.5.2"
  }
 },
 "nbformat": 4,
 "nbformat_minor": 0
}
